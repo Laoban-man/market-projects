{
 "cells": [
  {
   "cell_type": "markdown",
   "metadata": {},
   "source": [
    "# Jane Street Market Opportunity Classification"
   ]
  },
  {
   "cell_type": "code",
   "execution_count": 93,
   "metadata": {},
   "outputs": [],
   "source": [
    "# import standard libraries\n",
    "import pandas as pd\n",
    "import numpy as np\n",
    "from numpy import array\n",
    "from pandas_profiling import ProfileReport\n",
    "from tqdm import tqdm\n",
    "import time\n",
    "import os\n",
    "import seaborn as sns\n",
    "import matplotlib.pyplot as plt\n",
    "import warnings\n",
    "import sys\n",
    "warnings.filterwarnings('ignore')\n",
    "\n",
    "# import time series eda libraries\n",
    "from statsmodels.tsa.seasonal import seasonal_decompose\n",
    "\n",
    "# import sklearn libraries\n",
    "import sklearn\n",
    "from sklearn.preprocessing import StandardScaler\n",
    "from sklearn.decomposition import PCA\n",
    "from sklearn.metrics import accuracy_score\n",
    "from sklearn.preprocessing import OneHotEncoder\n",
    "from sklearn.model_selection import train_test_split\n",
    "\n",
    "# gradient boosting libraries\n",
    "from lightgbm import LGBMClassifier\n",
    "\n",
    "# import neural network libraries\n",
    "from keras.models import Sequential\n",
    "from keras.layers import Dense\n",
    "from keras.layers import Flatten\n",
    "from keras.layers.convolutional import Conv1D\n",
    "from keras.layers.convolutional import MaxPooling1D\n",
    "from scipy import linalg \n",
    "import scipy.io\n",
    "import keras \n",
    "from keras.layers.core import Dense, Dropout, Activation, Flatten\n",
    "from keras.layers.convolutional import Conv1D, MaxPooling1D, SeparableConv1D\n",
    "from keras.regularizers import l2\n",
    "from keras.optimizers import SGD, RMSprop\n",
    "from keras.utils import to_categorical\n",
    "from keras.layers.normalization import BatchNormalization\n",
    "from keras.utils.vis_utils import plot_model\n",
    "from keras.layers import Input, GlobalAveragePooling1D\n",
    "from keras import models\n",
    "from keras.models import Model\n",
    "import tensorflow as tf\n",
    "from tensorflow import keras \n",
    "from tensorflow.keras.callbacks import EarlyStopping\n",
    "import fcn\n",
    "\n",
    "# import echo state network\n",
    "from easyesn import ClassificationESN\n",
    "from easyesn import OneHotEncoder\n",
    "from easyesn.optimizers import GridSearchOptimizer\n",
    "from easyesn import helper as hlp\n",
    "from pyESN import ESN\n",
    "from utils.utils import generate_results_csv\n",
    "from utils.utils import create_directory\n",
    "from utils.utils import read_dataset\n",
    "from utils.utils import transform_mts_to_ucr_format\n",
    "from utils.utils import visualize_filter\n",
    "from utils.utils import viz_for_survey_paper\n",
    "from utils.utils import viz_cam\n",
    "import utils\n",
    "from utils.constants import CLASSIFIERS\n",
    "from utils.constants import ARCHIVE_NAMES\n",
    "from utils.constants import ITERATIONS\n",
    "from utils.utils import read_all_datasets\n",
    "import twiesn\n",
    "\n",
    "# import reservoir models\n",
    "from modules1 import RC_model\n",
    "\n",
    "# import time series models\n",
    "import inception\n",
    "import importlib\n",
    "import resnet\n",
    "import importlib\n",
    "from pyts.classification import BOSSVS,LearningShapelets\n",
    "from pyts.datasets import load_basic_motions\n",
    "from pyts.multivariate.classification import MultivariateClassifier\n"
   ]
  },
  {
   "cell_type": "markdown",
   "metadata": {},
   "source": [
    "# EDA"
   ]
  },
  {
   "cell_type": "code",
   "execution_count": 2,
   "metadata": {},
   "outputs": [
    {
     "name": "stdout",
     "output_type": "stream",
     "text": [
      "<class 'pandas.core.frame.DataFrame'>\n",
      "RangeIndex: 100000 entries, 0 to 99999\n",
      "Columns: 138 entries, date to ts_id\n",
      "dtypes: float64(135), int64(3)\n",
      "memory usage: 105.3 MB\n"
     ]
    }
   ],
   "source": [
    "data=pd.read_csv(\"../data/jane-street-market-prediction/train.csv\",nrows=100000)\n",
    "data.info()"
   ]
  },
  {
   "cell_type": "code",
   "execution_count": 3,
   "metadata": {},
   "outputs": [
    {
     "name": "stdout",
     "output_type": "stream",
     "text": [
      "(10000, 138)\n",
      "   date     weight    resp_1    resp_2    resp_3    resp_4      resp  \\\n",
      "0     0   0.000000  0.009916  0.014079  0.008773  0.001390  0.006270   \n",
      "1     0  16.673515 -0.002828 -0.003226 -0.007319 -0.011114 -0.009792   \n",
      "2     0   0.000000  0.025134  0.027607  0.033406  0.034380  0.023970   \n",
      "3     0   0.000000 -0.004730 -0.003273 -0.000461 -0.000476 -0.003200   \n",
      "4     0   0.138531  0.001252  0.002165 -0.001215 -0.006219 -0.002604   \n",
      "\n",
      "   feature_0  feature_1  feature_2  ...  feature_121  feature_122  \\\n",
      "0          1  -1.872746  -2.191242  ...          NaN     1.168391   \n",
      "1         -1  -1.349537  -1.704709  ...          NaN    -1.178850   \n",
      "2         -1   0.812780  -0.256156  ...          NaN     6.115747   \n",
      "3         -1   1.174378   0.344640  ...          NaN     2.838853   \n",
      "4          1  -3.172026  -3.093182  ...          NaN     0.344850   \n",
      "\n",
      "   feature_123  feature_124  feature_125  feature_126  feature_127  \\\n",
      "0     8.313583     1.782433    14.018213     2.653056    12.600292   \n",
      "1     1.777472    -0.915458     2.831612    -1.417010     2.297459   \n",
      "2     9.667908     5.542871    11.671595     7.281757    10.060014   \n",
      "3     0.499251     3.033732     1.513488     4.397532     1.266037   \n",
      "4     4.101145     0.614252     6.623456     0.800129     5.233243   \n",
      "\n",
      "   feature_128  feature_129  ts_id  \n",
      "0     2.301488    11.445807      0  \n",
      "1    -1.304614     1.898684      1  \n",
      "2     6.638248     9.427299      2  \n",
      "3     3.856384     1.013469      3  \n",
      "4     0.362636     3.926633      4  \n",
      "\n",
      "[5 rows x 138 columns]\n",
      "date            0\n",
      "weight          0\n",
      "resp_1          0\n",
      "resp_2          0\n",
      "resp_3          0\n",
      "               ..\n",
      "feature_126    21\n",
      "feature_127    21\n",
      "feature_128     4\n",
      "feature_129     4\n",
      "ts_id           0\n",
      "Length: 138, dtype: int64\n",
      "None\n"
     ]
    }
   ],
   "source": [
    "print(data.shape)\n",
    "print(data.head())"
   ]
  },
  {
   "cell_type": "code",
   "execution_count": 100,
   "metadata": {},
   "outputs": [
    {
     "data": {
      "text/plain": [
       "[<matplotlib.lines.Line2D at 0x7f34a7f01910>]"
      ]
     },
     "execution_count": 100,
     "metadata": {},
     "output_type": "execute_result"
    }
   ],
   "source": [
    "plt.figure(figsize=(20,10))\n",
    "plt.plot(data[\"feature_126\"])"
   ]
  },
  {
   "cell_type": "code",
   "execution_count": 101,
   "metadata": {},
   "outputs": [
    {
     "data": {
      "text/plain": [
       "<AxesSubplot:>"
      ]
     },
     "execution_count": 101,
     "metadata": {},
     "output_type": "execute_result"
    }
   ],
   "source": [
    "decomposition = seasonal_decompose(data['feature_126'].ffill(axis=0), period=12, extrapolate_trend='freq')\n",
    "fig, (ax1,ax2,ax3) = plt.subplots(3,1, figsize=(20,8))\n",
    "decomposition.trend.plot(ax=ax1)\n",
    "decomposition.seasonal.plot(ax=ax2)\n",
    "decomposition.resid.plot(ax=ax3)"
   ]
  },
  {
   "cell_type": "code",
   "execution_count": 3,
   "metadata": {},
   "outputs": [],
   "source": [
    "data = data[data['weight']!=0]\n",
    "data['action'] = data['resp'].apply(lambda x:x>0).astype(int)\n",
    "sample_weights = (data['resp'] * data['weight']).abs()\n",
    "features = [col for col in list(data.columns) if 'feature' in col]"
   ]
  },
  {
   "cell_type": "code",
   "execution_count": 4,
   "metadata": {},
   "outputs": [
    {
     "name": "stdout",
     "output_type": "stream",
     "text": [
      "<class 'pandas.core.frame.DataFrame'>\n",
      "Int64Index: 7776 entries, 90187 to 49271\n",
      "Columns: 139 entries, date to action\n",
      "dtypes: float64(135), int64(4)\n",
      "memory usage: 8.3 MB\n"
     ]
    }
   ],
   "source": [
    "data=data.sample(frac=0.1,axis=0)\n",
    "data.info()"
   ]
  },
  {
   "cell_type": "code",
   "execution_count": 5,
   "metadata": {},
   "outputs": [
    {
     "data": {
      "text/html": [
       "<div>\n",
       "<style scoped>\n",
       "    .dataframe tbody tr th:only-of-type {\n",
       "        vertical-align: middle;\n",
       "    }\n",
       "\n",
       "    .dataframe tbody tr th {\n",
       "        vertical-align: top;\n",
       "    }\n",
       "\n",
       "    .dataframe thead th {\n",
       "        text-align: right;\n",
       "    }\n",
       "</style>\n",
       "<table border=\"1\" class=\"dataframe\">\n",
       "  <thead>\n",
       "    <tr style=\"text-align: right;\">\n",
       "      <th></th>\n",
       "      <th>sum</th>\n",
       "      <th>count</th>\n",
       "      <th>%</th>\n",
       "    </tr>\n",
       "    <tr>\n",
       "      <th>date</th>\n",
       "      <th></th>\n",
       "      <th></th>\n",
       "      <th></th>\n",
       "    </tr>\n",
       "  </thead>\n",
       "  <tbody>\n",
       "    <tr>\n",
       "      <th>0</th>\n",
       "      <td>234</td>\n",
       "      <td>422</td>\n",
       "      <td>0.554502</td>\n",
       "    </tr>\n",
       "    <tr>\n",
       "      <th>1</th>\n",
       "      <td>391</td>\n",
       "      <td>740</td>\n",
       "      <td>0.528378</td>\n",
       "    </tr>\n",
       "    <tr>\n",
       "      <th>2</th>\n",
       "      <td>0</td>\n",
       "      <td>1</td>\n",
       "      <td>0.000000</td>\n",
       "    </tr>\n",
       "    <tr>\n",
       "      <th>3</th>\n",
       "      <td>279</td>\n",
       "      <td>596</td>\n",
       "      <td>0.468121</td>\n",
       "    </tr>\n",
       "    <tr>\n",
       "      <th>4</th>\n",
       "      <td>426</td>\n",
       "      <td>771</td>\n",
       "      <td>0.552529</td>\n",
       "    </tr>\n",
       "    <tr>\n",
       "      <th>5</th>\n",
       "      <td>418</td>\n",
       "      <td>796</td>\n",
       "      <td>0.525126</td>\n",
       "    </tr>\n",
       "    <tr>\n",
       "      <th>6</th>\n",
       "      <td>128</td>\n",
       "      <td>216</td>\n",
       "      <td>0.592593</td>\n",
       "    </tr>\n",
       "    <tr>\n",
       "      <th>7</th>\n",
       "      <td>115</td>\n",
       "      <td>227</td>\n",
       "      <td>0.506608</td>\n",
       "    </tr>\n",
       "    <tr>\n",
       "      <th>8</th>\n",
       "      <td>283</td>\n",
       "      <td>525</td>\n",
       "      <td>0.539048</td>\n",
       "    </tr>\n",
       "    <tr>\n",
       "      <th>9</th>\n",
       "      <td>315</td>\n",
       "      <td>582</td>\n",
       "      <td>0.541237</td>\n",
       "    </tr>\n",
       "    <tr>\n",
       "      <th>10</th>\n",
       "      <td>188</td>\n",
       "      <td>358</td>\n",
       "      <td>0.525140</td>\n",
       "    </tr>\n",
       "    <tr>\n",
       "      <th>11</th>\n",
       "      <td>175</td>\n",
       "      <td>324</td>\n",
       "      <td>0.540123</td>\n",
       "    </tr>\n",
       "    <tr>\n",
       "      <th>12</th>\n",
       "      <td>498</td>\n",
       "      <td>923</td>\n",
       "      <td>0.539545</td>\n",
       "    </tr>\n",
       "    <tr>\n",
       "      <th>13</th>\n",
       "      <td>194</td>\n",
       "      <td>388</td>\n",
       "      <td>0.500000</td>\n",
       "    </tr>\n",
       "    <tr>\n",
       "      <th>14</th>\n",
       "      <td>98</td>\n",
       "      <td>181</td>\n",
       "      <td>0.541436</td>\n",
       "    </tr>\n",
       "    <tr>\n",
       "      <th>15</th>\n",
       "      <td>231</td>\n",
       "      <td>478</td>\n",
       "      <td>0.483264</td>\n",
       "    </tr>\n",
       "    <tr>\n",
       "      <th>16</th>\n",
       "      <td>114</td>\n",
       "      <td>248</td>\n",
       "      <td>0.459677</td>\n",
       "    </tr>\n",
       "  </tbody>\n",
       "</table>\n",
       "</div>"
      ],
      "text/plain": [
       "      sum  count         %\n",
       "date                      \n",
       "0     234    422  0.554502\n",
       "1     391    740  0.528378\n",
       "2       0      1  0.000000\n",
       "3     279    596  0.468121\n",
       "4     426    771  0.552529\n",
       "5     418    796  0.525126\n",
       "6     128    216  0.592593\n",
       "7     115    227  0.506608\n",
       "8     283    525  0.539048\n",
       "9     315    582  0.541237\n",
       "10    188    358  0.525140\n",
       "11    175    324  0.540123\n",
       "12    498    923  0.539545\n",
       "13    194    388  0.500000\n",
       "14     98    181  0.541436\n",
       "15    231    478  0.483264\n",
       "16    114    248  0.459677"
      ]
     },
     "execution_count": 5,
     "metadata": {},
     "output_type": "execute_result"
    }
   ],
   "source": [
    "temp=data[[\"date\",\"action\"]].groupby(\"date\").agg([\"sum\",\"count\"])\n",
    "temp=temp.droplevel(0,axis=1)\n",
    "temp[\"%\"]=temp[\"sum\"]/temp[\"count\"]\n",
    "temp"
   ]
  },
  {
   "cell_type": "markdown",
   "metadata": {},
   "source": [
    "We can see that in the subset selected throughout the days, we keep a roughly 50% rate of actions taken on available opportunities."
   ]
  },
  {
   "cell_type": "code",
   "execution_count": 6,
   "metadata": {},
   "outputs": [
    {
     "data": {
      "text/html": [
       "<div>\n",
       "<style scoped>\n",
       "    .dataframe tbody tr th:only-of-type {\n",
       "        vertical-align: middle;\n",
       "    }\n",
       "\n",
       "    .dataframe tbody tr th {\n",
       "        vertical-align: top;\n",
       "    }\n",
       "\n",
       "    .dataframe thead th {\n",
       "        text-align: right;\n",
       "    }\n",
       "</style>\n",
       "<table border=\"1\" class=\"dataframe\">\n",
       "  <thead>\n",
       "    <tr style=\"text-align: right;\">\n",
       "      <th></th>\n",
       "      <th>0</th>\n",
       "      <th>1</th>\n",
       "      <th>2</th>\n",
       "      <th>3</th>\n",
       "      <th>4</th>\n",
       "      <th>5</th>\n",
       "      <th>6</th>\n",
       "      <th>7</th>\n",
       "      <th>8</th>\n",
       "      <th>9</th>\n",
       "      <th>...</th>\n",
       "      <th>120</th>\n",
       "      <th>121</th>\n",
       "      <th>122</th>\n",
       "      <th>123</th>\n",
       "      <th>124</th>\n",
       "      <th>125</th>\n",
       "      <th>126</th>\n",
       "      <th>127</th>\n",
       "      <th>128</th>\n",
       "      <th>129</th>\n",
       "    </tr>\n",
       "  </thead>\n",
       "  <tbody>\n",
       "    <tr>\n",
       "      <th>feature</th>\n",
       "      <td>feature_0</td>\n",
       "      <td>feature_1</td>\n",
       "      <td>feature_2</td>\n",
       "      <td>feature_3</td>\n",
       "      <td>feature_4</td>\n",
       "      <td>feature_5</td>\n",
       "      <td>feature_6</td>\n",
       "      <td>feature_7</td>\n",
       "      <td>feature_8</td>\n",
       "      <td>feature_9</td>\n",
       "      <td>...</td>\n",
       "      <td>feature_120</td>\n",
       "      <td>feature_121</td>\n",
       "      <td>feature_122</td>\n",
       "      <td>feature_123</td>\n",
       "      <td>feature_124</td>\n",
       "      <td>feature_125</td>\n",
       "      <td>feature_126</td>\n",
       "      <td>feature_127</td>\n",
       "      <td>feature_128</td>\n",
       "      <td>feature_129</td>\n",
       "    </tr>\n",
       "    <tr>\n",
       "      <th>num_missing</th>\n",
       "      <td>0</td>\n",
       "      <td>0</td>\n",
       "      <td>0</td>\n",
       "      <td>19</td>\n",
       "      <td>19</td>\n",
       "      <td>0</td>\n",
       "      <td>0</td>\n",
       "      <td>1209</td>\n",
       "      <td>1209</td>\n",
       "      <td>1</td>\n",
       "      <td>...</td>\n",
       "      <td>229</td>\n",
       "      <td>229</td>\n",
       "      <td>0</td>\n",
       "      <td>0</td>\n",
       "      <td>51</td>\n",
       "      <td>51</td>\n",
       "      <td>21</td>\n",
       "      <td>21</td>\n",
       "      <td>4</td>\n",
       "      <td>4</td>\n",
       "    </tr>\n",
       "  </tbody>\n",
       "</table>\n",
       "<p>2 rows × 130 columns</p>\n",
       "</div>"
      ],
      "text/plain": [
       "                   0          1          2          3          4          5    \\\n",
       "feature      feature_0  feature_1  feature_2  feature_3  feature_4  feature_5   \n",
       "num_missing          0          0          0         19         19          0   \n",
       "\n",
       "                   6          7          8          9    ...          120  \\\n",
       "feature      feature_6  feature_7  feature_8  feature_9  ...  feature_120   \n",
       "num_missing          0       1209       1209          1  ...          229   \n",
       "\n",
       "                     121          122          123          124          125  \\\n",
       "feature      feature_121  feature_122  feature_123  feature_124  feature_125   \n",
       "num_missing          229            0            0           51           51   \n",
       "\n",
       "                     126          127          128          129  \n",
       "feature      feature_126  feature_127  feature_128  feature_129  \n",
       "num_missing           21           21            4            4  \n",
       "\n",
       "[2 rows x 130 columns]"
      ]
     },
     "execution_count": 6,
     "metadata": {},
     "output_type": "execute_result"
    }
   ],
   "source": [
    "missing_values = pd.DataFrame()\n",
    "missing_values['feature'] = features\n",
    "missing_values['num_missing'] = [data[i].isna().sum() for i in features]\n",
    "missing_values.T"
   ]
  },
  {
   "cell_type": "markdown",
   "metadata": {},
   "source": [
    "## Data cleaning"
   ]
  },
  {
   "cell_type": "code",
   "execution_count": 7,
   "metadata": {},
   "outputs": [],
   "source": [
    "data_median = data.median()\n",
    "data = data.fillna(data_median)"
   ]
  },
  {
   "cell_type": "markdown",
   "metadata": {},
   "source": [
    "While the median is a fast way to impute missing values, it will introduce significant bias as though features are the sames throughout"
   ]
  },
  {
   "cell_type": "code",
   "execution_count": 8,
   "metadata": {},
   "outputs": [],
   "source": [
    "X_train = data[features]\n",
    "y_train = data['action']"
   ]
  },
  {
   "cell_type": "markdown",
   "metadata": {},
   "source": [
    "## PCA"
   ]
  },
  {
   "cell_type": "code",
   "execution_count": 9,
   "metadata": {},
   "outputs": [],
   "source": [
    "scaler = StandardScaler()\n",
    "scaler.fit(X_train)\n",
    "X_train_norm = scaler.transform(X_train)\n",
    "\n",
    "pca = PCA()\n",
    "comp = pca.fit(X_train_norm)\n",
    "\n",
    "# We plot a graph to show how the explained variation in the 129 features varies with the number of principal components\n",
    "plt.plot(np.cumsum(comp.explained_variance_ratio_))\n",
    "plt.grid()\n",
    "plt.xlabel('Number of Principal Components')\n",
    "plt.ylabel('Explained Variance')\n",
    "sns.despine()"
   ]
  },
  {
   "cell_type": "markdown",
   "metadata": {},
   "source": [
    "A PCA analysis of the data shows that selecting only 20 PC features is sufficient to cover more than 80% of the variance present in the dataset."
   ]
  },
  {
   "cell_type": "code",
   "execution_count": 10,
   "metadata": {},
   "outputs": [],
   "source": [
    "pca = PCA(n_components=20).fit(X_train_norm)\n",
    "X_train_transform = pca.transform(X_train_norm)"
   ]
  },
  {
   "cell_type": "markdown",
   "metadata": {},
   "source": [
    "## LightGBM gradient boosting classifier"
   ]
  },
  {
   "cell_type": "code",
   "execution_count": 49,
   "metadata": {},
   "outputs": [],
   "source": [
    "X_train,X_test,y_train,y_test=train_test_split(X_train_transform,y_train,train_size=0.8,random_state=123)"
   ]
  },
  {
   "cell_type": "code",
   "execution_count": 23,
   "metadata": {},
   "outputs": [
    {
     "data": {
      "text/plain": [
       "LGBMClassifier()"
      ]
     },
     "execution_count": 23,
     "metadata": {},
     "output_type": "execute_result"
    }
   ],
   "source": [
    "lgb = LGBMClassifier()\n",
    "lgb.fit(X_train,y_train)"
   ]
  },
  {
   "cell_type": "code",
   "execution_count": 25,
   "metadata": {},
   "outputs": [
    {
     "data": {
      "text/plain": [
       "0.9297427652733119"
      ]
     },
     "execution_count": 25,
     "metadata": {},
     "output_type": "execute_result"
    }
   ],
   "source": [
    "ypred=lgb.predict(X_train)\n",
    "accuracy_score(y_train,ypred)"
   ]
  },
  {
   "cell_type": "code",
   "execution_count": 26,
   "metadata": {},
   "outputs": [
    {
     "data": {
      "text/plain": [
       "0.5327763496143959"
      ]
     },
     "execution_count": 26,
     "metadata": {},
     "output_type": "execute_result"
    }
   ],
   "source": [
    "ypred=lgb.predict(X_test)\n",
    "accuracy_score(y_test,ypred)"
   ]
  },
  {
   "cell_type": "code",
   "execution_count": 15,
   "metadata": {},
   "outputs": [],
   "source": [
    "def fillna_npwhere(array, values):\n",
    "    if np.isnan(array.sum()):\n",
    "        array = np.where(np.isnan(array), values, array)\n",
    "    return array"
   ]
  },
  {
   "cell_type": "markdown",
   "metadata": {},
   "source": [
    "## RNN for time series classification"
   ]
  },
  {
   "cell_type": "code",
   "execution_count": 11,
   "metadata": {},
   "outputs": [],
   "source": [
    "y_train = data['action']\n",
    "X_train,X_test,y_train,y_test=train_test_split(X_train_norm,y_train,train_size=0.8,random_state=123)"
   ]
  },
  {
   "cell_type": "code",
   "execution_count": 12,
   "metadata": {},
   "outputs": [
    {
     "data": {
      "text/plain": [
       "(6220, 130)"
      ]
     },
     "execution_count": 12,
     "metadata": {},
     "output_type": "execute_result"
    }
   ],
   "source": [
    "X_train.shape"
   ]
  },
  {
   "cell_type": "code",
   "execution_count": 13,
   "metadata": {},
   "outputs": [],
   "source": [
    "X_train=np.array(X_train).reshape(6220,130,1)\n",
    "X_test=np.array(X_test).reshape(1556,130,1)"
   ]
  },
  {
   "cell_type": "code",
   "execution_count": 14,
   "metadata": {},
   "outputs": [],
   "source": [
    "y_train=np.array(y_train).reshape(6220,1)\n",
    "y_test=np.array(y_test).reshape(1556,1)"
   ]
  },
  {
   "cell_type": "code",
   "execution_count": 15,
   "metadata": {},
   "outputs": [],
   "source": [
    "model = keras.Sequential()\n",
    "model.add(keras.layers.Bidirectional(keras.layers.LSTM(units=32,input_shape=(130,1))))\n",
    "model.add(keras.layers.Dropout(rate=0.2))\n",
    "model.add(keras.layers.Dense(units=32, activation='relu'))\n",
    "model.add(keras.layers.Dropout(rate=0.2))\n",
    "model.add(keras.layers.Dense(units=32, activation='relu'))\n",
    "model.add(keras.layers.Dropout(rate=0.2))\n",
    "model.add(keras.layers.Dense(units=16, activation='relu'))\n",
    "model.add(keras.layers.Dense(1, activation='sigmoid'))\n",
    "\n",
    "callback = [EarlyStopping(monitor='val_loss', patience=10)]\n",
    "\n",
    "model.compile(\n",
    "  loss='binary_crossentropy',\n",
    "  optimizer='adam',\n",
    "  metrics='accuracy',\n",
    ")"
   ]
  },
  {
   "cell_type": "code",
   "execution_count": 16,
   "metadata": {
    "collapsed": true,
    "jupyter": {
     "outputs_hidden": true
    }
   },
   "outputs": [
    {
     "name": "stdout",
     "output_type": "stream",
     "text": [
      "Epoch 1/50\n",
      "350/350 [==============================] - 19s 43ms/step - loss: 0.6926 - accuracy: 0.5164 - val_loss: 0.6915 - val_accuracy: 0.5193\n",
      "Epoch 2/50\n",
      "350/350 [==============================] - 14s 40ms/step - loss: 0.6909 - accuracy: 0.5293 - val_loss: 0.6936 - val_accuracy: 0.5305\n",
      "Epoch 3/50\n",
      "350/350 [==============================] - 13s 37ms/step - loss: 0.6907 - accuracy: 0.5336 - val_loss: 0.6920 - val_accuracy: 0.5273\n",
      "Epoch 4/50\n",
      "350/350 [==============================] - 12s 35ms/step - loss: 0.6895 - accuracy: 0.5309 - val_loss: 0.6918 - val_accuracy: 0.5354\n",
      "Epoch 5/50\n",
      "350/350 [==============================] - 12s 35ms/step - loss: 0.6897 - accuracy: 0.5358 - val_loss: 0.6908 - val_accuracy: 0.5322\n",
      "Epoch 6/50\n",
      "350/350 [==============================] - 14s 40ms/step - loss: 0.6897 - accuracy: 0.5345 - val_loss: 0.6912 - val_accuracy: 0.5322\n",
      "Epoch 7/50\n",
      "350/350 [==============================] - 14s 40ms/step - loss: 0.6892 - accuracy: 0.5322 - val_loss: 0.6924 - val_accuracy: 0.5177\n",
      "Epoch 8/50\n",
      "350/350 [==============================] - 14s 39ms/step - loss: 0.6889 - accuracy: 0.5413 - val_loss: 0.6963 - val_accuracy: 0.5322\n",
      "Epoch 9/50\n",
      "350/350 [==============================] - 14s 41ms/step - loss: 0.6874 - accuracy: 0.5428 - val_loss: 0.6911 - val_accuracy: 0.5257\n",
      "Epoch 10/50\n",
      "350/350 [==============================] - 14s 39ms/step - loss: 0.6866 - accuracy: 0.5453 - val_loss: 0.6931 - val_accuracy: 0.5418\n",
      "Epoch 11/50\n",
      "350/350 [==============================] - 14s 41ms/step - loss: 0.6861 - accuracy: 0.5537 - val_loss: 0.6922 - val_accuracy: 0.5386\n",
      "Epoch 12/50\n",
      "350/350 [==============================] - 14s 40ms/step - loss: 0.6876 - accuracy: 0.5442 - val_loss: 0.6912 - val_accuracy: 0.5418\n",
      "Epoch 13/50\n",
      "350/350 [==============================] - 14s 40ms/step - loss: 0.6817 - accuracy: 0.5597 - val_loss: 0.6930 - val_accuracy: 0.5241\n",
      "Epoch 14/50\n",
      "350/350 [==============================] - 14s 40ms/step - loss: 0.6866 - accuracy: 0.5359 - val_loss: 0.6907 - val_accuracy: 0.5386\n",
      "Epoch 15/50\n",
      "350/350 [==============================] - 14s 39ms/step - loss: 0.6847 - accuracy: 0.5487 - val_loss: 0.6917 - val_accuracy: 0.5402\n",
      "Epoch 16/50\n",
      "350/350 [==============================] - 14s 39ms/step - loss: 0.6838 - accuracy: 0.5554 - val_loss: 0.6926 - val_accuracy: 0.5354\n",
      "Epoch 17/50\n",
      "350/350 [==============================] - 14s 40ms/step - loss: 0.6822 - accuracy: 0.5414 - val_loss: 0.6890 - val_accuracy: 0.5338\n",
      "Epoch 18/50\n",
      "350/350 [==============================] - 14s 39ms/step - loss: 0.6810 - accuracy: 0.5558 - val_loss: 0.6940 - val_accuracy: 0.5241\n",
      "Epoch 19/50\n",
      "350/350 [==============================] - 14s 40ms/step - loss: 0.6844 - accuracy: 0.5631 - val_loss: 0.6932 - val_accuracy: 0.5354\n",
      "Epoch 20/50\n",
      "350/350 [==============================] - 14s 41ms/step - loss: 0.6833 - accuracy: 0.5543 - val_loss: 0.6914 - val_accuracy: 0.5482\n",
      "Epoch 21/50\n",
      "350/350 [==============================] - 13s 39ms/step - loss: 0.6785 - accuracy: 0.5545 - val_loss: 0.6900 - val_accuracy: 0.5482\n",
      "Epoch 22/50\n",
      "350/350 [==============================] - 13s 38ms/step - loss: 0.6810 - accuracy: 0.5573 - val_loss: 0.6929 - val_accuracy: 0.5466\n",
      "Epoch 23/50\n",
      "350/350 [==============================] - 14s 39ms/step - loss: 0.6806 - accuracy: 0.5647 - val_loss: 0.6882 - val_accuracy: 0.5402\n",
      "Epoch 24/50\n",
      "350/350 [==============================] - 14s 39ms/step - loss: 0.6839 - accuracy: 0.5388 - val_loss: 0.6920 - val_accuracy: 0.5434\n",
      "Epoch 25/50\n",
      "350/350 [==============================] - 13s 38ms/step - loss: 0.6786 - accuracy: 0.5537 - val_loss: 0.6887 - val_accuracy: 0.5595\n",
      "Epoch 26/50\n",
      "350/350 [==============================] - 13s 38ms/step - loss: 0.6794 - accuracy: 0.5638 - val_loss: 0.6896 - val_accuracy: 0.5531\n",
      "Epoch 27/50\n",
      "350/350 [==============================] - 14s 39ms/step - loss: 0.6747 - accuracy: 0.5649 - val_loss: 0.6865 - val_accuracy: 0.5498\n",
      "Epoch 28/50\n",
      "350/350 [==============================] - 14s 40ms/step - loss: 0.6735 - accuracy: 0.5742 - val_loss: 0.6941 - val_accuracy: 0.5418\n",
      "Epoch 29/50\n",
      "350/350 [==============================] - 14s 40ms/step - loss: 0.6780 - accuracy: 0.5729 - val_loss: 0.6914 - val_accuracy: 0.5386\n",
      "Epoch 30/50\n",
      "350/350 [==============================] - 14s 40ms/step - loss: 0.6762 - accuracy: 0.5635 - val_loss: 0.6888 - val_accuracy: 0.5402\n",
      "Epoch 31/50\n",
      "350/350 [==============================] - 14s 41ms/step - loss: 0.6765 - accuracy: 0.5684 - val_loss: 0.6895 - val_accuracy: 0.5531\n",
      "Epoch 32/50\n",
      "350/350 [==============================] - 14s 40ms/step - loss: 0.6733 - accuracy: 0.5815 - val_loss: 0.6998 - val_accuracy: 0.5450\n",
      "Epoch 33/50\n",
      "350/350 [==============================] - 14s 39ms/step - loss: 0.6775 - accuracy: 0.5610 - val_loss: 0.6886 - val_accuracy: 0.5338\n",
      "Epoch 34/50\n",
      "350/350 [==============================] - 14s 41ms/step - loss: 0.6701 - accuracy: 0.5741 - val_loss: 0.6899 - val_accuracy: 0.5482\n",
      "Epoch 35/50\n",
      "350/350 [==============================] - 14s 40ms/step - loss: 0.6733 - accuracy: 0.5684 - val_loss: 0.6887 - val_accuracy: 0.5370\n",
      "Epoch 36/50\n",
      "350/350 [==============================] - 13s 38ms/step - loss: 0.6670 - accuracy: 0.5867 - val_loss: 0.6950 - val_accuracy: 0.5354\n",
      "Epoch 37/50\n",
      "350/350 [==============================] - 13s 38ms/step - loss: 0.6700 - accuracy: 0.5863 - val_loss: 0.6932 - val_accuracy: 0.5547\n"
     ]
    }
   ],
   "source": [
    "history = model.fit(\n",
    "    X_train, y_train,\n",
    "    epochs=50,\n",
    "    batch_size=16,\n",
    "    validation_split=0.1,\n",
    "    callbacks = callback\n",
    ")"
   ]
  },
  {
   "cell_type": "code",
   "execution_count": 17,
   "metadata": {},
   "outputs": [
    {
     "name": "stdout",
     "output_type": "stream",
     "text": [
      "0.5831189710610932\n",
      "0.5449871465295629\n"
     ]
    }
   ],
   "source": [
    "ypred_tr=model.predict(X_train)\n",
    "print(accuracy_score(y_train,np.where(ypred_tr>=0.5,1,0)))\n",
    "ypred_te=model.predict(X_test)\n",
    "print(accuracy_score(y_test,np.where(ypred_te>=0.5,1,0)))"
   ]
  },
  {
   "cell_type": "markdown",
   "metadata": {},
   "source": [
    "## Multiple convolution network"
   ]
  },
  {
   "cell_type": "code",
   "execution_count": 25,
   "metadata": {},
   "outputs": [],
   "source": [
    "y_train = data['action']\n",
    "X_train,X_test,y_train,y_test=train_test_split(X_train_norm,y_train,train_size=0.8,random_state=123)\n",
    "X_tr=np.array(X_train).reshape(len(X_train),X_train.shape[1],1)\n",
    "X_te=np.array(X_test).reshape(len(X_test),X_test.shape[1],1)\n",
    "y_tr=np.array(y_train).reshape(len(y_train),1)\n",
    "y_te=np.array(y_test).reshape(len(y_test),1)"
   ]
  },
  {
   "cell_type": "code",
   "execution_count": 26,
   "metadata": {},
   "outputs": [
    {
     "data": {
      "image/png": "[encoded data removed]",
      "text/plain": [
       "<IPython.core.display.Image object>"
      ]
     },
     "execution_count": 26,
     "metadata": {},
     "output_type": "execute_result"
    }
   ],
   "source": [
    "input_img = Input(shape=(130, 1))\n",
    "\n",
    "layer_1 = Conv1D(10, 1, padding='same', activation='relu')(input_img)\n",
    "layer_1 = Conv1D(10, 3, padding='same', activation='relu')(layer_1)\n",
    "layer_2 = Conv1D(10,1, padding='same', activation='relu')(input_img)\n",
    "layer_2 = Conv1D(10,5, padding='same', activation='relu')(layer_2)\n",
    "layer_3 = MaxPooling1D(3, strides=1, padding='same')(input_img)\n",
    "layer_3 = Conv1D(10, 1, padding='same', activation='relu')(layer_3)\n",
    "mid_1 = tf.keras.layers.concatenate([layer_1, layer_2, layer_3], axis = 1)\n",
    "flat_1 = Flatten()(mid_1)\n",
    "dense_1 = Dense(256, activation='relu')(flat_1)\n",
    "dense_2 = Dense(128, activation='relu')(dense_1)\n",
    "dense_3 = Dense(64, activation='relu')(dense_2)\n",
    "output = Dense(1, activation='sigmoid')(dense_3)\n",
    "\n",
    "model = Model([input_img], output)\n",
    "plot_model(model, to_file='model.png', show_shapes=True, show_layer_names=True)"
   ]
  },
  {
   "cell_type": "code",
   "execution_count": 27,
   "metadata": {},
   "outputs": [],
   "source": [
    "model.compile(optimizer='adam', loss='binary_crossentropy', metrics=['accuracy'])\n",
    "batch_size = 16\n",
    "epochs = 10"
   ]
  },
  {
   "cell_type": "code",
   "execution_count": 28,
   "metadata": {},
   "outputs": [
    {
     "name": "stdout",
     "output_type": "stream",
     "text": [
      "Epoch 1/10\n",
      "350/350 [==============================] - 4s 9ms/step - loss: 0.7092 - accuracy: 0.4956 - val_loss: 0.6915 - val_accuracy: 0.5096\n",
      "Epoch 2/10\n",
      "350/350 [==============================] - 3s 8ms/step - loss: 0.6886 - accuracy: 0.5518 - val_loss: 0.6890 - val_accuracy: 0.5482\n",
      "Epoch 3/10\n",
      "350/350 [==============================] - 3s 8ms/step - loss: 0.6832 - accuracy: 0.5615 - val_loss: 0.6844 - val_accuracy: 0.5338\n",
      "Epoch 4/10\n",
      "350/350 [==============================] - 3s 8ms/step - loss: 0.6650 - accuracy: 0.5931 - val_loss: 0.6879 - val_accuracy: 0.5563\n",
      "Epoch 5/10\n",
      "350/350 [==============================] - 3s 8ms/step - loss: 0.6566 - accuracy: 0.6033 - val_loss: 0.7093 - val_accuracy: 0.5418\n",
      "Epoch 6/10\n",
      "350/350 [==============================] - 3s 8ms/step - loss: 0.6219 - accuracy: 0.6469 - val_loss: 0.7161 - val_accuracy: 0.5354\n",
      "Epoch 7/10\n",
      "350/350 [==============================] - 3s 8ms/step - loss: 0.5715 - accuracy: 0.7087 - val_loss: 0.8201 - val_accuracy: 0.5627\n",
      "Epoch 8/10\n",
      "350/350 [==============================] - 3s 8ms/step - loss: 0.4946 - accuracy: 0.7525 - val_loss: 0.8574 - val_accuracy: 0.5289\n",
      "Epoch 9/10\n",
      "350/350 [==============================] - 3s 8ms/step - loss: 0.3943 - accuracy: 0.8283 - val_loss: 1.0019 - val_accuracy: 0.5804\n",
      "Epoch 10/10\n",
      "350/350 [==============================] - 3s 8ms/step - loss: 0.2801 - accuracy: 0.8794 - val_loss: 1.3740 - val_accuracy: 0.5482\n"
     ]
    },
    {
     "data": {
      "text/plain": [
       "<tensorflow.python.keras.callbacks.History at 0x7f352bd0dc90>"
      ]
     },
     "execution_count": 28,
     "metadata": {},
     "output_type": "execute_result"
    }
   ],
   "source": [
    "model.fit(X_tr, y_tr, epochs=epochs, batch_size=batch_size,validation_split=0.1,callbacks = callback)"
   ]
  },
  {
   "cell_type": "code",
   "execution_count": 29,
   "metadata": {},
   "outputs": [
    {
     "name": "stdout",
     "output_type": "stream",
     "text": [
      "0.8831189710610933\n",
      "0.5327763496143959\n"
     ]
    }
   ],
   "source": [
    "ypred_tr=model.predict(X_tr)\n",
    "print(accuracy_score(y_tr,np.where(ypred_tr>=0.5,1,0)))\n",
    "ypred_te=model.predict(X_te)\n",
    "print(accuracy_score(y_te,np.where(ypred_te>=0.5,1,0)))"
   ]
  },
  {
   "cell_type": "code",
   "execution_count": 31,
   "metadata": {},
   "outputs": [],
   "source": [
    "## RC"
   ]
  },
  {
   "cell_type": "code",
   "execution_count": 32,
   "metadata": {},
   "outputs": [],
   "source": [
    "X_tr=X_tr.reshape(len(X_tr),130)\n",
    "X_te=X_te.reshape(len(X_te),130)"
   ]
  },
  {
   "cell_type": "code",
   "execution_count": 33,
   "metadata": {},
   "outputs": [],
   "source": [
    "def split_sequences(sequences, n_steps):\n",
    "    X, y = list(), list()\n",
    "    for i in range(len(sequences)):\n",
    "    # find the end of this pattern\n",
    "        end_ix = i + n_steps\n",
    "        # check if we are beyond the dataset\n",
    "        if end_ix > len(sequences):\n",
    "            break\n",
    "        # gather input and output parts of the pattern\n",
    "        seq_x, seq_y = sequences[i:end_ix, :-1], sequences[end_ix-1, -1]\n",
    "        X.append(seq_x)\n",
    "        y.append(seq_y)\n",
    "    return np.array(X), np.array(y)"
   ]
  },
  {
   "cell_type": "code",
   "execution_count": 34,
   "metadata": {},
   "outputs": [],
   "source": [
    "sequences_tr=np.hstack((X_tr, y_tr))\n",
    "sequences_te=np.hstack((X_te, y_te))"
   ]
  },
  {
   "cell_type": "code",
   "execution_count": 35,
   "metadata": {},
   "outputs": [],
   "source": [
    "window=200\n",
    "X_tr, y_tr = split_sequences(sequences_tr, window)\n",
    "X_te, y_te = split_sequences(sequences_te, window)\n",
    "y_te=y_te.reshape(len(y_te),)\n",
    "y_tr=y_tr.reshape(len(y_tr),)"
   ]
  },
  {
   "cell_type": "code",
   "execution_count": 36,
   "metadata": {},
   "outputs": [
    {
     "name": "stdout",
     "output_type": "stream",
     "text": [
      "(6021, 200, 130)\n",
      "(1357, 200, 130)\n",
      "(6021,)\n",
      "(1357,)\n"
     ]
    }
   ],
   "source": [
    "print(X_tr.shape)\n",
    "print(X_te.shape)\n",
    "print(y_tr.shape)\n",
    "print(y_te.shape)"
   ]
  },
  {
   "cell_type": "code",
   "execution_count": 37,
   "metadata": {},
   "outputs": [
    {
     "name": "stdout",
     "output_type": "stream",
     "text": [
      "{'dataset_name': 'JpVow', 'seed': 1, 'n_internal_units': 100, 'spectral_radius': 0.4, 'leak': 0.5, 'connectivity': 0.1, 'input_scaling': 0.1, 'noise_level': 0.01, 'n_drop': 0, 'bidir': False, 'circ': False, 'dimred_method': 'pca', 'n_dim': 80, 'mts_rep': 'last', 'w_ridge_embedding': 5.0, 'readout_type': 'mlp', 'w_ridge': 5.0, 'svm_gamma': 0.005, 'svm_C': 5.0, 'mlp_layout': (20, 1), 'num_epochs': 20, 'w_l2': 0.1, 'nonlinearity': 'relu'}\n",
      "Training time = 0.69 seconds\n",
      "Accuracy = 0.553, F1 = 0.623\n"
     ]
    }
   ],
   "source": [
    "# ============ RC model configuration and hyperparameter values ============\n",
    "config = {}\n",
    "config['dataset_name'] = 'JpVow'\n",
    "\n",
    "config['seed'] = 1\n",
    "np.random.seed(config['seed'])\n",
    "\n",
    "# Hyperarameters of the reservoir\n",
    "config['n_internal_units'] = 100        # size of the reservoir\n",
    "config['spectral_radius'] = 0.4        # largest eigenvalue of the reservoir\n",
    "config['leak'] = 0.5                    # amount of leakage in the reservoir state update (None or 1.0 --> no leakage)\n",
    "config['connectivity'] = 0.1           # percentage of nonzero connections in the reservoir\n",
    "config['input_scaling'] = 0.1           # scaling of the input weights\n",
    "config['noise_level'] = 0.01            # noise in the reservoir state update\n",
    "config['n_drop'] = 0                    # transient states to be dropped\n",
    "config['bidir'] = False                  # if True, use bidirectional reservoir\n",
    "config['circ'] = False                  # use reservoir with circle topology\n",
    "\n",
    "# Dimensionality reduction hyperparameters\n",
    "config['dimred_method'] =\"pca\"       # options: {None (no dimensionality reduction), 'pca', 'tenpca'}\n",
    "config['n_dim'] = 80                    # number of resulting dimensions after the dimensionality reduction procedure\n",
    "\n",
    "# Type of MTS representation\n",
    "config['mts_rep'] = 'last'         # MTS representation:  {'last', 'mean', 'output', 'reservoir'}\n",
    "config['w_ridge_embedding'] = 5.0      # regularization parameter of the ridge regression\n",
    "\n",
    "# Type of readout\n",
    "config['readout_type'] = 'mlp'          # readout used for classification: {'lin', 'mlp', 'svm'}\n",
    "\n",
    "# Linear readout hyperparameters\n",
    "config['w_ridge'] = 5.0                 # regularization of the ridge regression readout\n",
    "\n",
    "# SVM readout hyperparameters\n",
    "config['svm_gamma'] = 0.005             # bandwith of the RBF kernel\n",
    "config['svm_C'] = 5.0                   # regularization for SVM hyperplane\n",
    "\n",
    "# MLP readout hyperparameters\n",
    "config['mlp_layout'] = (20,1)          # neurons in each MLP layer\n",
    "config['num_epochs'] = 20             # number of epochs \n",
    "config['w_l2'] = 0.1                  # weight of the L2 regularization\n",
    "config['nonlinearity'] = 'relu'         # type of activation function {'relu', 'tanh', 'logistic', 'identity'}\n",
    "\n",
    "print(config)\n",
    "\n",
    "# ============ Initialize, train and evaluate the RC model ============\n",
    "classifier =  RC_model(\n",
    "                        reservoir=None,     \n",
    "                        n_internal_units=config['n_internal_units'],\n",
    "                        spectral_radius=config['spectral_radius'],\n",
    "                        leak=config['leak'],\n",
    "                        connectivity=config['connectivity'],\n",
    "                        input_scaling=config['input_scaling'],\n",
    "                        noise_level=config['noise_level'],\n",
    "                        circle=config['circ'],\n",
    "                        n_drop=config['n_drop'],\n",
    "                        bidir=config['bidir'],\n",
    "                        dimred_method=config['dimred_method'], \n",
    "                        n_dim=config['n_dim'],\n",
    "                        mts_rep=config['mts_rep'],\n",
    "                        w_ridge_embedding=config['w_ridge_embedding'],\n",
    "                        readout_type=config['readout_type'],            \n",
    "                        w_ridge=config['w_ridge'],              \n",
    "                        mlp_layout=config['mlp_layout'],\n",
    "                        num_epochs=config['num_epochs'],\n",
    "                        w_l2=config['w_l2'],\n",
    "                        nonlinearity=config['nonlinearity'], \n",
    "                        svm_gamma=config['svm_gamma'],\n",
    "                        svm_C=config['svm_C']\n",
    "                        )\n",
    "\n",
    "tr_time = classifier.train(X_tr,y_tr)\n",
    "print('Training time = %.2f seconds'%tr_time)\n",
    "\n",
    "accuracy, f1 = classifier.test(X_te, y_te)\n",
    "print('Accuracy = %.3f, F1 = %.3f'%(accuracy, f1))"
   ]
  },
  {
   "cell_type": "code",
   "execution_count": 38,
   "metadata": {},
   "outputs": [
    {
     "name": "stdout",
     "output_type": "stream",
     "text": [
      "0.6508885567181532\n",
      "0.5571112748710391\n"
     ]
    }
   ],
   "source": [
    "ypred_tr=classifier.predict(X_tr)\n",
    "print(accuracy_score(y_tr,ypred_tr))\n",
    "ypred_te=classifier.predict(X_te)\n",
    "print(accuracy_score(y_te,ypred_te))"
   ]
  },
  {
   "cell_type": "code",
   "execution_count": 39,
   "metadata": {},
   "outputs": [
    {
     "name": "stdout",
     "output_type": "stream",
     "text": [
      "6021\n",
      "3174.0\n",
      "3918.0\n",
      "1357\n",
      "719.0\n",
      "888.0\n"
     ]
    }
   ],
   "source": [
    "print(len(y_tr))\n",
    "print(y_tr.sum())\n",
    "print(ypred_tr.sum())\n",
    "print(len(y_te))\n",
    "print(y_te.sum())\n",
    "print(ypred_te.sum())"
   ]
  },
  {
   "cell_type": "markdown",
   "metadata": {},
   "source": [
    "## Echo state network"
   ]
  },
  {
   "cell_type": "code",
   "execution_count": 41,
   "metadata": {},
   "outputs": [],
   "source": [
    "y_train = data['action']\n",
    "X_train,X_test,y_train,y_test=train_test_split(X_train_norm,y_train,train_size=0.8,random_state=123)\n",
    "X_tr=np.array(X_train).reshape(len(X_train),1,X_train.shape[1])\n",
    "X_te=np.array(X_test).reshape(len(X_test),1,X_test.shape[1])\n",
    "y_tr=np.array(y_train).reshape(len(y_train),1)\n",
    "y_te=np.array(y_test).reshape(len(y_test),1)"
   ]
  },
  {
   "cell_type": "code",
   "execution_count": 42,
   "metadata": {},
   "outputs": [
    {
     "name": "stderr",
     "output_type": "stream",
     "text": [
      "100% (6220 of 6220) |####################| Elapsed Time: 0:00:02 Time:  0:00:02\n"
     ]
    },
    {
     "data": {
      "text/plain": [
       "0.7368099081205067"
      ]
     },
     "execution_count": 42,
     "metadata": {},
     "output_type": "execute_result"
    }
   ],
   "source": [
    "esn = ClassificationESN(130, 100,1,spectralRadius=1.0,\n",
    "        noiseLevel=0.2,\n",
    "        leakingRate=0.5,\n",
    "        reservoirDensity=0.3,\n",
    "        regressionParameters=[0.2],\n",
    "        solver=\"lsqr\")\n",
    "esn.fit(X_tr, y_tr, verbose=1)"
   ]
  },
  {
   "cell_type": "code",
   "execution_count": 43,
   "metadata": {},
   "outputs": [
    {
     "data": {
      "text/plain": [
       "0.525706940874036"
      ]
     },
     "execution_count": 43,
     "metadata": {},
     "output_type": "execute_result"
    }
   ],
   "source": [
    "ypred=esn.predict(X_te)\n",
    "accuracy_score(y_te,ypred)"
   ]
  },
  {
   "cell_type": "markdown",
   "metadata": {},
   "source": [
    "## Model"
   ]
  },
  {
   "cell_type": "code",
   "execution_count": 67,
   "metadata": {},
   "outputs": [],
   "source": [
    "y_train = data['action']\n",
    "window=200\n",
    "X_train,X_test,y_train,y_test=train_test_split(X_train_transform,y_train,train_size=0.8,random_state=123)\n",
    "y_test=np.array(y_test).reshape(len(y_test),1)\n",
    "y_train=np.array(y_train).reshape(len(y_train),1)\n",
    "sequences_tr=np.hstack((X_train, y_train))\n",
    "sequences_te=np.hstack((X_test, y_test))\n",
    "X_tr, y_tr = split_sequences(sequences_tr, window)\n",
    "X_te, y_te = split_sequences(sequences_te, window)\n",
    "y_te=y_te.reshape(len(y_te),1)\n",
    "y_tr=y_tr.reshape(len(y_tr),1)"
   ]
  },
  {
   "cell_type": "code",
   "execution_count": 68,
   "metadata": {},
   "outputs": [],
   "source": [
    "# define model\n",
    "model = Sequential()\n",
    "model.add(Conv1D(filters=64, kernel_size=2, activation='relu', input_shape=(200, 20)))\n",
    "model.add(BatchNormalization())\n",
    "model.add(MaxPooling1D(pool_size=2))\n",
    "model.add(Flatten())\n",
    "model.add(Dense(50, activation='relu'))\n",
    "model.add(Dense(1,activation=\"sigmoid\"))\n",
    "model.compile(optimizer='adam', loss='binary_crossentropy', metrics=['accuracy'])"
   ]
  },
  {
   "cell_type": "code",
   "execution_count": 70,
   "metadata": {},
   "outputs": [
    {
     "name": "stdout",
     "output_type": "stream",
     "text": [
      "Epoch 1/5\n",
      "189/189 [==============================] - 2s 11ms/step - loss: 0.1362 - accuracy: 0.9515\n",
      "Epoch 2/5\n",
      "189/189 [==============================] - 2s 11ms/step - loss: 0.0652 - accuracy: 0.9796\n",
      "Epoch 3/5\n",
      "189/189 [==============================] - 2s 11ms/step - loss: 0.0354 - accuracy: 0.9875\n",
      "Epoch 4/5\n",
      "189/189 [==============================] - 2s 11ms/step - loss: 0.0201 - accuracy: 0.9930\n",
      "Epoch 5/5\n",
      "189/189 [==============================] - 2s 11ms/step - loss: 0.0129 - accuracy: 0.9957\n",
      "0.9971765487460554\n",
      "0.5047899778924098\n"
     ]
    }
   ],
   "source": [
    "## from sklearn.metrics import accuracy_score\n",
    "model.fit(X_tr, y_tr, epochs=5, verbose=1)\n",
    "ypred_tr = model.predict(X_tr)\n",
    "print(accuracy_score(y_tr,np.where(ypred_tr>=0.5,1,0)))\n",
    "ypred_te = model.predict(X_te)\n",
    "print(accuracy_score(y_te,np.where(ypred_te>=0.5,1,0)))"
   ]
  },
  {
   "cell_type": "markdown",
   "metadata": {},
   "source": [
    "## NN"
   ]
  },
  {
   "cell_type": "code",
   "execution_count": 81,
   "metadata": {},
   "outputs": [],
   "source": [
    "y_train = data['action']\n",
    "X_train,X_test,y_train,y_test=train_test_split(X_train_norm,y_train,train_size=0.8,random_state=123)\n",
    "X_tr=np.array(X_train).reshape(len(X_train),X_train.shape[1],1)\n",
    "X_te=np.array(X_test).reshape(len(X_test),X_test.shape[1],1)\n",
    "y_tr=np.array(y_train).reshape(len(y_train),1)\n",
    "y_te=np.array(y_test).reshape(len(y_test),1)"
   ]
  },
  {
   "cell_type": "code",
   "execution_count": 82,
   "metadata": {},
   "outputs": [
    {
     "name": "stdout",
     "output_type": "stream",
     "text": [
      "(6220, 130, 1)\n",
      "(1556, 130, 1)\n",
      "(6220, 1)\n",
      "(1556, 1)\n"
     ]
    }
   ],
   "source": [
    "print(X_tr.shape)\n",
    "print(X_te.shape)\n",
    "print(y_tr.shape)\n",
    "print(y_te.shape)"
   ]
  },
  {
   "cell_type": "code",
   "execution_count": 83,
   "metadata": {},
   "outputs": [],
   "source": [
    "input_shape=(130,1)\n",
    "input_layer = keras.layers.Input(input_shape)\n",
    "conv1 = keras.layers.Conv1D(filters=128, kernel_size=8, padding='same')(input_layer)\n",
    "conv1 = keras.layers.BatchNormalization()(conv1)\n",
    "conv1 = keras.layers.Activation(activation='relu')(conv1)\n",
    "\n",
    "conv2 = keras.layers.Conv1D(filters=256, kernel_size=5, padding='same')(conv1)\n",
    "conv2 = keras.layers.BatchNormalization()(conv2)\n",
    "conv2 = keras.layers.Activation('relu')(conv2)\n",
    "\n",
    "conv3 = keras.layers.Conv1D(128, kernel_size=3,padding='same')(conv2)\n",
    "conv3 = keras.layers.BatchNormalization()(conv3)\n",
    "conv3 = keras.layers.Activation('relu')(conv3)\n",
    "\n",
    "gap_layer = keras.layers.GlobalAveragePooling1D()(conv3)\n",
    "\n",
    "output_layer = keras.layers.Dense(1, activation='sigmoid')(gap_layer)\n",
    "\n",
    "model = keras.models.Model(inputs=input_layer, outputs=output_layer)\n",
    "\n",
    "model.compile(loss='binary_crossentropy', optimizer = keras.optimizers.Adam(), \n",
    "            metrics=['accuracy'])\n",
    "\n",
    "reduce_lr = keras.callbacks.ReduceLROnPlateau(monitor='loss', factor=0.5, patience=5, \n",
    "            min_lr=0.0001)\n",
    "file_path = \"output\"+'best_model.hdf5'\n",
    "\n",
    "model_checkpoint = keras.callbacks.ModelCheckpoint(filepath=file_path, monitor='loss', \n",
    "            save_best_only=True)\n",
    "\n",
    "callbacks = [reduce_lr,model_checkpoint]"
   ]
  },
  {
   "cell_type": "code",
   "execution_count": 88,
   "metadata": {},
   "outputs": [
    {
     "name": "stdout",
     "output_type": "stream",
     "text": [
      "Epoch 1/2\n",
      "389/389 [==============================] - 45s 116ms/step - loss: 0.6915 - accuracy: 0.5272 - val_loss: 0.7058 - val_accuracy: 0.5039\n",
      "Epoch 2/2\n",
      "389/389 [==============================] - 30s 77ms/step - loss: 0.6916 - accuracy: 0.5297 - val_loss: 0.7161 - val_accuracy: 0.5263\n"
     ]
    }
   ],
   "source": [
    "batch_size = 16\n",
    "nb_epochs = 2\n",
    "\n",
    "mini_batch_size = int(min(X_tr.shape[0]/10, batch_size))\n",
    "\n",
    "start_time = time.time() \n",
    "\n",
    "hist = model.fit(X_tr, y_tr, batch_size=mini_batch_size, epochs=nb_epochs,\n",
    "            verbose=1, validation_data=(X_te,y_te), callbacks=callbacks)\n",
    "\n",
    "duration = time.time() - start_time\n",
    "\n",
    "ypred_tr = np.where(model.predict(X_tr)>=0.5,1,0)\n",
    "ypred_te = np.where(model.predict(X_te)>=0.5,1,0)"
   ]
  },
  {
   "cell_type": "code",
   "execution_count": 89,
   "metadata": {},
   "outputs": [
    {
     "name": "stdout",
     "output_type": "stream",
     "text": [
      "6220\n",
      "3269\n",
      "6217\n",
      "0.5257234726688103\n",
      "1556\n",
      "818\n",
      "1555\n",
      "0.5263496143958869\n"
     ]
    }
   ],
   "source": [
    "print(len(X_tr))\n",
    "print(y_tr.sum())\n",
    "print(ypred_tr.sum())\n",
    "print(accuracy_score(y_tr,ypred_tr))\n",
    "print(len(y_te))\n",
    "print(y_te.sum())\n",
    "print(ypred_te.sum())\n",
    "print(accuracy_score(y_te,ypred_te))"
   ]
  },
  {
   "cell_type": "markdown",
   "metadata": {},
   "source": [
    "## Inception time"
   ]
  },
  {
   "cell_type": "code",
   "execution_count": 90,
   "metadata": {
    "scrolled": true
   },
   "outputs": [
    {
     "name": "stdout",
     "output_type": "stream",
     "text": [
      "Model: \"model_3\"\n",
      "__________________________________________________________________________________________________\n",
      "Layer (type)                    Output Shape         Param #     Connected to                     \n",
      "==================================================================================================\n",
      "input_4 (InputLayer)            [(None, 130, 1)]     0                                            \n",
      "__________________________________________________________________________________________________\n",
      "max_pooling1d_5 (MaxPooling1D)  (None, 130, 1)       0           input_4[0][0]                    \n",
      "__________________________________________________________________________________________________\n",
      "conv1d_15 (Conv1D)              (None, 130, 32)      1280        input_4[0][0]                    \n",
      "__________________________________________________________________________________________________\n",
      "conv1d_16 (Conv1D)              (None, 130, 32)      640         input_4[0][0]                    \n",
      "__________________________________________________________________________________________________\n",
      "conv1d_17 (Conv1D)              (None, 130, 32)      320         input_4[0][0]                    \n",
      "__________________________________________________________________________________________________\n",
      "conv1d_18 (Conv1D)              (None, 130, 32)      32          max_pooling1d_5[0][0]            \n",
      "__________________________________________________________________________________________________\n",
      "concatenate_1 (Concatenate)     (None, 130, 128)     0           conv1d_15[0][0]                  \n",
      "                                                                 conv1d_16[0][0]                  \n",
      "                                                                 conv1d_17[0][0]                  \n",
      "                                                                 conv1d_18[0][0]                  \n",
      "__________________________________________________________________________________________________\n",
      "batch_normalization_10 (BatchNo (None, 130, 128)     512         concatenate_1[0][0]              \n",
      "__________________________________________________________________________________________________\n",
      "activation_6 (Activation)       (None, 130, 128)     0           batch_normalization_10[0][0]     \n",
      "__________________________________________________________________________________________________\n",
      "conv1d_19 (Conv1D)              (None, 130, 32)      4096        activation_6[0][0]               \n",
      "__________________________________________________________________________________________________\n",
      "max_pooling1d_6 (MaxPooling1D)  (None, 130, 128)     0           activation_6[0][0]               \n",
      "__________________________________________________________________________________________________\n",
      "conv1d_20 (Conv1D)              (None, 130, 32)      40960       conv1d_19[0][0]                  \n",
      "__________________________________________________________________________________________________\n",
      "conv1d_21 (Conv1D)              (None, 130, 32)      20480       conv1d_19[0][0]                  \n",
      "__________________________________________________________________________________________________\n",
      "conv1d_22 (Conv1D)              (None, 130, 32)      10240       conv1d_19[0][0]                  \n",
      "__________________________________________________________________________________________________\n",
      "conv1d_23 (Conv1D)              (None, 130, 32)      4096        max_pooling1d_6[0][0]            \n",
      "__________________________________________________________________________________________________\n",
      "concatenate_2 (Concatenate)     (None, 130, 128)     0           conv1d_20[0][0]                  \n",
      "                                                                 conv1d_21[0][0]                  \n",
      "                                                                 conv1d_22[0][0]                  \n",
      "                                                                 conv1d_23[0][0]                  \n",
      "__________________________________________________________________________________________________\n",
      "batch_normalization_11 (BatchNo (None, 130, 128)     512         concatenate_2[0][0]              \n",
      "__________________________________________________________________________________________________\n",
      "activation_7 (Activation)       (None, 130, 128)     0           batch_normalization_11[0][0]     \n",
      "__________________________________________________________________________________________________\n",
      "conv1d_24 (Conv1D)              (None, 130, 32)      4096        activation_7[0][0]               \n",
      "__________________________________________________________________________________________________\n",
      "max_pooling1d_7 (MaxPooling1D)  (None, 130, 128)     0           activation_7[0][0]               \n",
      "__________________________________________________________________________________________________\n",
      "conv1d_25 (Conv1D)              (None, 130, 32)      40960       conv1d_24[0][0]                  \n",
      "__________________________________________________________________________________________________\n",
      "conv1d_26 (Conv1D)              (None, 130, 32)      20480       conv1d_24[0][0]                  \n",
      "__________________________________________________________________________________________________\n",
      "conv1d_27 (Conv1D)              (None, 130, 32)      10240       conv1d_24[0][0]                  \n",
      "__________________________________________________________________________________________________\n",
      "conv1d_28 (Conv1D)              (None, 130, 32)      4096        max_pooling1d_7[0][0]            \n",
      "__________________________________________________________________________________________________\n",
      "concatenate_3 (Concatenate)     (None, 130, 128)     0           conv1d_25[0][0]                  \n",
      "                                                                 conv1d_26[0][0]                  \n",
      "                                                                 conv1d_27[0][0]                  \n",
      "                                                                 conv1d_28[0][0]                  \n",
      "__________________________________________________________________________________________________\n",
      "conv1d_29 (Conv1D)              (None, 130, 128)     128         input_4[0][0]                    \n",
      "__________________________________________________________________________________________________\n",
      "batch_normalization_12 (BatchNo (None, 130, 128)     512         concatenate_3[0][0]              \n",
      "__________________________________________________________________________________________________\n",
      "batch_normalization_13 (BatchNo (None, 130, 128)     512         conv1d_29[0][0]                  \n",
      "__________________________________________________________________________________________________\n",
      "activation_8 (Activation)       (None, 130, 128)     0           batch_normalization_12[0][0]     \n",
      "__________________________________________________________________________________________________\n",
      "add (Add)                       (None, 130, 128)     0           batch_normalization_13[0][0]     \n",
      "                                                                 activation_8[0][0]               \n",
      "__________________________________________________________________________________________________\n",
      "activation_9 (Activation)       (None, 130, 128)     0           add[0][0]                        \n",
      "__________________________________________________________________________________________________\n",
      "conv1d_30 (Conv1D)              (None, 130, 32)      4096        activation_9[0][0]               \n",
      "__________________________________________________________________________________________________\n",
      "max_pooling1d_8 (MaxPooling1D)  (None, 130, 128)     0           activation_9[0][0]               \n",
      "__________________________________________________________________________________________________\n",
      "conv1d_31 (Conv1D)              (None, 130, 32)      40960       conv1d_30[0][0]                  \n",
      "__________________________________________________________________________________________________\n",
      "conv1d_32 (Conv1D)              (None, 130, 32)      20480       conv1d_30[0][0]                  \n",
      "__________________________________________________________________________________________________\n",
      "conv1d_33 (Conv1D)              (None, 130, 32)      10240       conv1d_30[0][0]                  \n",
      "__________________________________________________________________________________________________\n",
      "conv1d_34 (Conv1D)              (None, 130, 32)      4096        max_pooling1d_8[0][0]            \n",
      "__________________________________________________________________________________________________\n",
      "concatenate_4 (Concatenate)     (None, 130, 128)     0           conv1d_31[0][0]                  \n",
      "                                                                 conv1d_32[0][0]                  \n",
      "                                                                 conv1d_33[0][0]                  \n",
      "                                                                 conv1d_34[0][0]                  \n",
      "__________________________________________________________________________________________________\n",
      "batch_normalization_14 (BatchNo (None, 130, 128)     512         concatenate_4[0][0]              \n",
      "__________________________________________________________________________________________________\n",
      "activation_10 (Activation)      (None, 130, 128)     0           batch_normalization_14[0][0]     \n",
      "__________________________________________________________________________________________________\n",
      "conv1d_35 (Conv1D)              (None, 130, 32)      4096        activation_10[0][0]              \n",
      "__________________________________________________________________________________________________\n",
      "max_pooling1d_9 (MaxPooling1D)  (None, 130, 128)     0           activation_10[0][0]              \n",
      "__________________________________________________________________________________________________\n",
      "conv1d_36 (Conv1D)              (None, 130, 32)      40960       conv1d_35[0][0]                  \n",
      "__________________________________________________________________________________________________\n",
      "conv1d_37 (Conv1D)              (None, 130, 32)      20480       conv1d_35[0][0]                  \n",
      "__________________________________________________________________________________________________\n",
      "conv1d_38 (Conv1D)              (None, 130, 32)      10240       conv1d_35[0][0]                  \n",
      "__________________________________________________________________________________________________\n",
      "conv1d_39 (Conv1D)              (None, 130, 32)      4096        max_pooling1d_9[0][0]            \n",
      "__________________________________________________________________________________________________\n",
      "concatenate_5 (Concatenate)     (None, 130, 128)     0           conv1d_36[0][0]                  \n",
      "                                                                 conv1d_37[0][0]                  \n",
      "                                                                 conv1d_38[0][0]                  \n",
      "                                                                 conv1d_39[0][0]                  \n",
      "__________________________________________________________________________________________________\n",
      "batch_normalization_15 (BatchNo (None, 130, 128)     512         concatenate_5[0][0]              \n",
      "__________________________________________________________________________________________________\n",
      "activation_11 (Activation)      (None, 130, 128)     0           batch_normalization_15[0][0]     \n",
      "__________________________________________________________________________________________________\n",
      "conv1d_40 (Conv1D)              (None, 130, 32)      4096        activation_11[0][0]              \n",
      "__________________________________________________________________________________________________\n",
      "max_pooling1d_10 (MaxPooling1D) (None, 130, 128)     0           activation_11[0][0]              \n",
      "__________________________________________________________________________________________________\n",
      "conv1d_41 (Conv1D)              (None, 130, 32)      40960       conv1d_40[0][0]                  \n",
      "__________________________________________________________________________________________________\n",
      "conv1d_42 (Conv1D)              (None, 130, 32)      20480       conv1d_40[0][0]                  \n",
      "__________________________________________________________________________________________________\n",
      "conv1d_43 (Conv1D)              (None, 130, 32)      10240       conv1d_40[0][0]                  \n",
      "__________________________________________________________________________________________________\n",
      "conv1d_44 (Conv1D)              (None, 130, 32)      4096        max_pooling1d_10[0][0]           \n",
      "__________________________________________________________________________________________________\n",
      "concatenate_6 (Concatenate)     (None, 130, 128)     0           conv1d_41[0][0]                  \n",
      "                                                                 conv1d_42[0][0]                  \n",
      "                                                                 conv1d_43[0][0]                  \n",
      "                                                                 conv1d_44[0][0]                  \n",
      "__________________________________________________________________________________________________\n",
      "conv1d_45 (Conv1D)              (None, 130, 128)     16384       activation_9[0][0]               \n",
      "__________________________________________________________________________________________________\n",
      "batch_normalization_16 (BatchNo (None, 130, 128)     512         concatenate_6[0][0]              \n",
      "__________________________________________________________________________________________________\n",
      "batch_normalization_17 (BatchNo (None, 130, 128)     512         conv1d_45[0][0]                  \n",
      "__________________________________________________________________________________________________\n",
      "activation_12 (Activation)      (None, 130, 128)     0           batch_normalization_16[0][0]     \n",
      "__________________________________________________________________________________________________\n",
      "add_1 (Add)                     (None, 130, 128)     0           batch_normalization_17[0][0]     \n",
      "                                                                 activation_12[0][0]              \n",
      "__________________________________________________________________________________________________\n",
      "activation_13 (Activation)      (None, 130, 128)     0           add_1[0][0]                      \n",
      "__________________________________________________________________________________________________\n",
      "global_average_pooling1d_2 (Glo (None, 128)          0           activation_13[0][0]              \n",
      "__________________________________________________________________________________________________\n",
      "dense_18 (Dense)                (None, 1)            129         global_average_pooling1d_2[0][0] \n",
      "==================================================================================================\n",
      "Total params: 422,369\n",
      "Trainable params: 420,321\n",
      "Non-trainable params: 2,048\n",
      "__________________________________________________________________________________________________\n"
     ]
    }
   ],
   "source": [
    "importlib.reload(inception)\n",
    "inc2=inception.Classifier_INCEPTION(\"output\",input_shape=(130,1),nb_classes=1,nb_epochs=2)"
   ]
  },
  {
   "cell_type": "code",
   "execution_count": 91,
   "metadata": {},
   "outputs": [
    {
     "name": "stdout",
     "output_type": "stream",
     "text": [
      "Epoch 1/2\n",
      "98/98 [==============================] - 96s 859ms/step - loss: 0.7298 - accuracy: 0.5022 - val_loss: 0.6951 - val_accuracy: 0.5328\n",
      "Epoch 2/2\n",
      "98/98 [==============================] - 99s 998ms/step - loss: 0.6933 - accuracy: 0.5315 - val_loss: 0.6890 - val_accuracy: 0.5379\n"
     ]
    },
    {
     "data": {
      "text/html": [
       "<div>\n",
       "<style scoped>\n",
       "    .dataframe tbody tr th:only-of-type {\n",
       "        vertical-align: middle;\n",
       "    }\n",
       "\n",
       "    .dataframe tbody tr th {\n",
       "        vertical-align: top;\n",
       "    }\n",
       "\n",
       "    .dataframe thead th {\n",
       "        text-align: right;\n",
       "    }\n",
       "</style>\n",
       "<table border=\"1\" class=\"dataframe\">\n",
       "  <thead>\n",
       "    <tr style=\"text-align: right;\">\n",
       "      <th></th>\n",
       "      <th>precision</th>\n",
       "      <th>accuracy</th>\n",
       "      <th>recall</th>\n",
       "      <th>duration</th>\n",
       "    </tr>\n",
       "  </thead>\n",
       "  <tbody>\n",
       "    <tr>\n",
       "      <th>0</th>\n",
       "      <td>0.237147</td>\n",
       "      <td>0.474293</td>\n",
       "      <td>0.5</td>\n",
       "      <td>196.516161</td>\n",
       "    </tr>\n",
       "  </tbody>\n",
       "</table>\n",
       "</div>"
      ],
      "text/plain": [
       "   precision  accuracy  recall    duration\n",
       "0   0.237147  0.474293     0.5  196.516161"
      ]
     },
     "execution_count": 91,
     "metadata": {},
     "output_type": "execute_result"
    }
   ],
   "source": [
    "inc2.fit(X_tr,y_tr,X_te,y_te)"
   ]
  },
  {
   "cell_type": "code",
   "execution_count": 92,
   "metadata": {},
   "outputs": [
    {
     "name": "stdout",
     "output_type": "stream",
     "text": [
      "0.5331189710610933\n",
      "0.537917737789203\n",
      "6220\n",
      "3269\n",
      "3326.5876\n",
      "1556\n",
      "818\n",
      "833.1238\n"
     ]
    }
   ],
   "source": [
    "ypred_tr = inc2.predict(X_tr,y_tr)\n",
    "print(accuracy_score(y_tr,np.where(ypred_tr>=0.5,1,0)))\n",
    "ypred_te = inc2.predict(X_te,y_te)\n",
    "print(accuracy_score(y_te,np.where(ypred_te>=0.5,1,0)))\n",
    "print(len(y_tr))\n",
    "print(y_tr.sum())\n",
    "print(ypred_tr.sum())\n",
    "print(len(y_te))\n",
    "print(y_te.sum())\n",
    "print(ypred_te.sum())"
   ]
  },
  {
   "cell_type": "markdown",
   "metadata": {},
   "source": [
    "##  Resnet"
   ]
  },
  {
   "cell_type": "code",
   "execution_count": null,
   "metadata": {},
   "outputs": [],
   "source": [
    "y_train = data['action']\n",
    "window=200\n",
    "X_train,X_test,y_train,y_test=train_test_split(X_train_transform,y_train,train_size=0.8,random_state=123)\n",
    "y_test=np.array(y_test).reshape(len(y_test),1)\n",
    "y_train=np.array(y_train).reshape(len(y_train),1)\n",
    "sequences_tr=np.hstack((X_train, y_train))\n",
    "sequences_te=np.hstack((X_test, y_test))\n",
    "X_tr, y_tr = split_sequences(sequences_tr, window)\n",
    "X_te, y_te = split_sequences(sequences_te, window)\n",
    "y_te=y_te.reshape(len(y_te),1)\n",
    "y_tr=y_tr.reshape(len(y_tr),1)"
   ]
  },
  {
   "cell_type": "code",
   "execution_count": 98,
   "metadata": {},
   "outputs": [
    {
     "name": "stdout",
     "output_type": "stream",
     "text": [
      "Model: \"model_2\"\n",
      "__________________________________________________________________________________________________\n",
      "Layer (type)                    Output Shape         Param #     Connected to                     \n",
      "==================================================================================================\n",
      "input_3 (InputLayer)            [(None, 130, 1)]     0                                            \n",
      "__________________________________________________________________________________________________\n",
      "conv1d_22 (Conv1D)              (None, 130, 64)      576         input_3[0][0]                    \n",
      "__________________________________________________________________________________________________\n",
      "batch_normalization_24 (BatchNo (None, 130, 64)      256         conv1d_22[0][0]                  \n",
      "__________________________________________________________________________________________________\n",
      "activation_18 (Activation)      (None, 130, 64)      0           batch_normalization_24[0][0]     \n",
      "__________________________________________________________________________________________________\n",
      "conv1d_23 (Conv1D)              (None, 130, 64)      20544       activation_18[0][0]              \n",
      "__________________________________________________________________________________________________\n",
      "batch_normalization_25 (BatchNo (None, 130, 64)      256         conv1d_23[0][0]                  \n",
      "__________________________________________________________________________________________________\n",
      "activation_19 (Activation)      (None, 130, 64)      0           batch_normalization_25[0][0]     \n",
      "__________________________________________________________________________________________________\n",
      "conv1d_25 (Conv1D)              (None, 130, 64)      128         input_3[0][0]                    \n",
      "__________________________________________________________________________________________________\n",
      "conv1d_24 (Conv1D)              (None, 130, 64)      12352       activation_19[0][0]              \n",
      "__________________________________________________________________________________________________\n",
      "batch_normalization_27 (BatchNo (None, 130, 64)      256         conv1d_25[0][0]                  \n",
      "__________________________________________________________________________________________________\n",
      "batch_normalization_26 (BatchNo (None, 130, 64)      256         conv1d_24[0][0]                  \n",
      "__________________________________________________________________________________________________\n",
      "add_6 (Add)                     (None, 130, 64)      0           batch_normalization_27[0][0]     \n",
      "                                                                 batch_normalization_26[0][0]     \n",
      "__________________________________________________________________________________________________\n",
      "activation_20 (Activation)      (None, 130, 64)      0           add_6[0][0]                      \n",
      "__________________________________________________________________________________________________\n",
      "conv1d_26 (Conv1D)              (None, 130, 128)     65664       activation_20[0][0]              \n",
      "__________________________________________________________________________________________________\n",
      "batch_normalization_28 (BatchNo (None, 130, 128)     512         conv1d_26[0][0]                  \n",
      "__________________________________________________________________________________________________\n",
      "activation_21 (Activation)      (None, 130, 128)     0           batch_normalization_28[0][0]     \n",
      "__________________________________________________________________________________________________\n",
      "conv1d_27 (Conv1D)              (None, 130, 128)     82048       activation_21[0][0]              \n",
      "__________________________________________________________________________________________________\n",
      "batch_normalization_29 (BatchNo (None, 130, 128)     512         conv1d_27[0][0]                  \n",
      "__________________________________________________________________________________________________\n",
      "activation_22 (Activation)      (None, 130, 128)     0           batch_normalization_29[0][0]     \n",
      "__________________________________________________________________________________________________\n",
      "conv1d_29 (Conv1D)              (None, 130, 128)     8320        activation_20[0][0]              \n",
      "__________________________________________________________________________________________________\n",
      "conv1d_28 (Conv1D)              (None, 130, 128)     49280       activation_22[0][0]              \n",
      "__________________________________________________________________________________________________\n",
      "batch_normalization_31 (BatchNo (None, 130, 128)     512         conv1d_29[0][0]                  \n",
      "__________________________________________________________________________________________________\n",
      "batch_normalization_30 (BatchNo (None, 130, 128)     512         conv1d_28[0][0]                  \n",
      "__________________________________________________________________________________________________\n",
      "add_7 (Add)                     (None, 130, 128)     0           batch_normalization_31[0][0]     \n",
      "                                                                 batch_normalization_30[0][0]     \n",
      "__________________________________________________________________________________________________\n",
      "activation_23 (Activation)      (None, 130, 128)     0           add_7[0][0]                      \n",
      "__________________________________________________________________________________________________\n",
      "conv1d_30 (Conv1D)              (None, 130, 128)     131200      activation_23[0][0]              \n",
      "__________________________________________________________________________________________________\n",
      "batch_normalization_32 (BatchNo (None, 130, 128)     512         conv1d_30[0][0]                  \n",
      "__________________________________________________________________________________________________\n",
      "activation_24 (Activation)      (None, 130, 128)     0           batch_normalization_32[0][0]     \n",
      "__________________________________________________________________________________________________\n",
      "conv1d_31 (Conv1D)              (None, 130, 128)     82048       activation_24[0][0]              \n",
      "__________________________________________________________________________________________________\n",
      "batch_normalization_33 (BatchNo (None, 130, 128)     512         conv1d_31[0][0]                  \n",
      "__________________________________________________________________________________________________\n",
      "activation_25 (Activation)      (None, 130, 128)     0           batch_normalization_33[0][0]     \n",
      "__________________________________________________________________________________________________\n",
      "conv1d_32 (Conv1D)              (None, 130, 128)     49280       activation_25[0][0]              \n",
      "__________________________________________________________________________________________________\n",
      "batch_normalization_35 (BatchNo (None, 130, 128)     512         activation_23[0][0]              \n",
      "__________________________________________________________________________________________________\n",
      "batch_normalization_34 (BatchNo (None, 130, 128)     512         conv1d_32[0][0]                  \n",
      "__________________________________________________________________________________________________\n",
      "add_8 (Add)                     (None, 130, 128)     0           batch_normalization_35[0][0]     \n",
      "                                                                 batch_normalization_34[0][0]     \n",
      "__________________________________________________________________________________________________\n",
      "activation_26 (Activation)      (None, 130, 128)     0           add_8[0][0]                      \n",
      "__________________________________________________________________________________________________\n",
      "global_average_pooling1d_2 (Glo (None, 128)          0           activation_26[0][0]              \n",
      "__________________________________________________________________________________________________\n",
      "dense_2 (Dense)                 (None, 1)            129         global_average_pooling1d_2[0][0] \n",
      "==================================================================================================\n",
      "Total params: 506,689\n",
      "Trainable params: 504,129\n",
      "Non-trainable params: 2,560\n",
      "__________________________________________________________________________________________________\n",
      "Epoch 1/10\n",
      "389/389 [==============================] - 109s 269ms/step - loss: 0.7174 - accuracy: 0.5161 - val_loss: 0.6902 - val_accuracy: 0.5353\n",
      "Epoch 2/10\n",
      "389/389 [==============================] - 88s 228ms/step - loss: 0.6910 - accuracy: 0.5369 - val_loss: 0.6949 - val_accuracy: 0.5225\n",
      "Epoch 3/10\n",
      "389/389 [==============================] - 75s 194ms/step - loss: 0.6923 - accuracy: 0.5285 - val_loss: 0.6908 - val_accuracy: 0.5398\n",
      "Epoch 4/10\n",
      "389/389 [==============================] - 44s 113ms/step - loss: 0.6855 - accuracy: 0.5581 - val_loss: 0.6919 - val_accuracy: 0.5431\n",
      "Epoch 5/10\n",
      "389/389 [==============================] - 52s 134ms/step - loss: 0.6846 - accuracy: 0.5535 - val_loss: 0.7114 - val_accuracy: 0.5116\n",
      "Epoch 6/10\n",
      "389/389 [==============================] - 126s 324ms/step - loss: 0.6883 - accuracy: 0.5423 - val_loss: 0.7219 - val_accuracy: 0.5251\n",
      "Epoch 7/10\n",
      "389/389 [==============================] - 146s 374ms/step - loss: 0.6814 - accuracy: 0.5581 - val_loss: 0.7419 - val_accuracy: 0.5231\n",
      "Epoch 8/10\n",
      "389/389 [==============================] - 157s 402ms/step - loss: 0.6815 - accuracy: 0.5691 - val_loss: 0.6871 - val_accuracy: 0.5353\n",
      "Epoch 9/10\n",
      "389/389 [==============================] - 114s 295ms/step - loss: 0.6787 - accuracy: 0.5675 - val_loss: 0.6891 - val_accuracy: 0.5514\n",
      "Epoch 10/10\n",
      "389/389 [==============================] - 231s 595ms/step - loss: 0.6772 - accuracy: 0.5694 - val_loss: 0.7109 - val_accuracy: 0.5206\n"
     ]
    },
    {
     "data": {
      "text/html": [
       "<div>\n",
       "<style scoped>\n",
       "    .dataframe tbody tr th:only-of-type {\n",
       "        vertical-align: middle;\n",
       "    }\n",
       "\n",
       "    .dataframe tbody tr th {\n",
       "        vertical-align: top;\n",
       "    }\n",
       "\n",
       "    .dataframe thead th {\n",
       "        text-align: right;\n",
       "    }\n",
       "</style>\n",
       "<table border=\"1\" class=\"dataframe\">\n",
       "  <thead>\n",
       "    <tr style=\"text-align: right;\">\n",
       "      <th></th>\n",
       "      <th>precision</th>\n",
       "      <th>accuracy</th>\n",
       "      <th>recall</th>\n",
       "      <th>duration</th>\n",
       "    </tr>\n",
       "  </thead>\n",
       "  <tbody>\n",
       "    <tr>\n",
       "      <th>0</th>\n",
       "      <td>0.237147</td>\n",
       "      <td>0.474293</td>\n",
       "      <td>0.5</td>\n",
       "      <td>1145.346904</td>\n",
       "    </tr>\n",
       "  </tbody>\n",
       "</table>\n",
       "</div>"
      ],
      "text/plain": [
       "   precision  accuracy  recall     duration\n",
       "0   0.237147  0.474293     0.5  1145.346904"
      ]
     },
     "execution_count": 98,
     "metadata": {},
     "output_type": "execute_result"
    }
   ],
   "source": [
    "importlib.reload(resnet)\n",
    "res=resnet.Classifier_RESNET(\"output\", input_shape=(130,200), nb_classes=1, verbose=True, build=True, load_weights=False)\n",
    "res.fit(X_tr,y_tr,X_te,y_te,nb_epochs=2)"
   ]
  },
  {
   "cell_type": "code",
   "execution_count": 99,
   "metadata": {},
   "outputs": [
    {
     "name": "stdout",
     "output_type": "stream",
     "text": [
      "0.587459807073955\n",
      "0.5514138817480719\n",
      "6220\n",
      "3269\n",
      "3290.329\n",
      "1556\n",
      "818\n",
      "821.3772\n"
     ]
    }
   ],
   "source": [
    "ypred_tr = res.predict(X_tr,y_tr)\n",
    "print(accuracy_score(y_tr,np.where(ypred_tr>=0.5,1,0)))\n",
    "ypred_te = res.predict(X_te,y_te)\n",
    "print(accuracy_score(y_te,np.where(ypred_te>=0.5,1,0)))\n",
    "print(len(y_tr))\n",
    "print(y_tr.sum())\n",
    "print(ypred_tr.sum())\n",
    "print(len(y_te))\n",
    "print(y_te.sum())\n",
    "print(ypred_te.sum())"
   ]
  },
  {
   "cell_type": "markdown",
   "metadata": {},
   "source": [
    "# Output"
   ]
  },
  {
   "cell_type": "code",
   "execution_count": 46,
   "metadata": {},
   "outputs": [
    {
     "name": "stdout",
     "output_type": "stream",
     "text": [
      "CPU times: user 17 µs, sys: 4 µs, total: 21 µs\n",
      "Wall time: 13.8 µs\n"
     ]
    }
   ],
   "source": [
    "import janestreet\n",
    "env = janestreet.make_env() # initialize the environment\n",
    "iter_test = env.iter_test() # an iterator which loops over the test set"
   ]
  },
  {
   "cell_type": "code",
   "execution_count": 47,
   "metadata": {
    "collapsed": true,
    "jupyter": {
     "outputs_hidden": true
    }
   },
   "outputs": [
    {
     "ename": "KeyboardInterrupt",
     "evalue": "",
     "output_type": "error",
     "traceback": [
      "\u001b[0;31m---------------------------------------\u001b[0m",
      "\u001b[0;31mKeyboardInterrupt\u001b[0mTraceback (most recent call last)",
      "\u001b[0;32m<ipython-input-47-d45c243dde92>\u001b[0m in \u001b[0;36m<module>\u001b[0;34m\u001b[0m\n\u001b[0;32m----> 1\u001b[0;31m \u001b[0;32mfor\u001b[0m \u001b[0;34m(\u001b[0m\u001b[0mtest_df\u001b[0m\u001b[0;34m,\u001b[0m \u001b[0msample_prediction_df\u001b[0m\u001b[0;34m)\u001b[0m \u001b[0;32min\u001b[0m \u001b[0miter_test\u001b[0m\u001b[0;34m:\u001b[0m\u001b[0;34m\u001b[0m\u001b[0;34m\u001b[0m\u001b[0m\n\u001b[0m\u001b[1;32m      2\u001b[0m     \u001b[0mwt\u001b[0m \u001b[0;34m=\u001b[0m \u001b[0mtest_df\u001b[0m\u001b[0;34m.\u001b[0m\u001b[0miloc\u001b[0m\u001b[0;34m[\u001b[0m\u001b[0;36m0\u001b[0m\u001b[0;34m]\u001b[0m\u001b[0;34m.\u001b[0m\u001b[0mweight\u001b[0m\u001b[0;34m\u001b[0m\u001b[0;34m\u001b[0m\u001b[0m\n\u001b[1;32m      3\u001b[0m     \u001b[0;32mif\u001b[0m\u001b[0;34m(\u001b[0m\u001b[0mwt\u001b[0m \u001b[0;34m==\u001b[0m \u001b[0;36m0\u001b[0m\u001b[0;34m)\u001b[0m\u001b[0;34m:\u001b[0m\u001b[0;34m\u001b[0m\u001b[0;34m\u001b[0m\u001b[0m\n\u001b[1;32m      4\u001b[0m         \u001b[0msample_prediction_df\u001b[0m\u001b[0;34m.\u001b[0m\u001b[0maction\u001b[0m \u001b[0;34m=\u001b[0m \u001b[0;36m0\u001b[0m\u001b[0;34m\u001b[0m\u001b[0;34m\u001b[0m\u001b[0m\n\u001b[1;32m      5\u001b[0m     \u001b[0;32melse\u001b[0m\u001b[0;34m:\u001b[0m\u001b[0;34m\u001b[0m\u001b[0;34m\u001b[0m\u001b[0m\n",
      "\u001b[0;32m~/code/Laoban-man/market-projects/janestreet/competition.cpython-37m-x86_64-linux-gnu.so\u001b[0m in \u001b[0;36miter_test\u001b[0;34m()\u001b[0m\n",
      "\u001b[0;32m~/.pyenv/versions/3.7.6/envs/vivadata/lib/python3.7/site-packages/pandas/core/frame.py\u001b[0m in \u001b[0;36m__init__\u001b[0;34m(self, data, index, columns, dtype, copy)\u001b[0m\n\u001b[1;32m    466\u001b[0m \u001b[0;34m\u001b[0m\u001b[0m\n\u001b[1;32m    467\u001b[0m         \u001b[0;32melif\u001b[0m \u001b[0misinstance\u001b[0m\u001b[0;34m(\u001b[0m\u001b[0mdata\u001b[0m\u001b[0;34m,\u001b[0m \u001b[0mdict\u001b[0m\u001b[0;34m)\u001b[0m\u001b[0;34m:\u001b[0m\u001b[0;34m\u001b[0m\u001b[0;34m\u001b[0m\u001b[0m\n\u001b[0;32m--> 468\u001b[0;31m             \u001b[0mmgr\u001b[0m \u001b[0;34m=\u001b[0m \u001b[0minit_dict\u001b[0m\u001b[0;34m(\u001b[0m\u001b[0mdata\u001b[0m\u001b[0;34m,\u001b[0m \u001b[0mindex\u001b[0m\u001b[0;34m,\u001b[0m \u001b[0mcolumns\u001b[0m\u001b[0;34m,\u001b[0m \u001b[0mdtype\u001b[0m\u001b[0;34m=\u001b[0m\u001b[0mdtype\u001b[0m\u001b[0;34m)\u001b[0m\u001b[0;34m\u001b[0m\u001b[0;34m\u001b[0m\u001b[0m\n\u001b[0m\u001b[1;32m    469\u001b[0m         \u001b[0;32melif\u001b[0m \u001b[0misinstance\u001b[0m\u001b[0;34m(\u001b[0m\u001b[0mdata\u001b[0m\u001b[0;34m,\u001b[0m \u001b[0mma\u001b[0m\u001b[0;34m.\u001b[0m\u001b[0mMaskedArray\u001b[0m\u001b[0;34m)\u001b[0m\u001b[0;34m:\u001b[0m\u001b[0;34m\u001b[0m\u001b[0;34m\u001b[0m\u001b[0m\n\u001b[1;32m    470\u001b[0m             \u001b[0;32mimport\u001b[0m \u001b[0mnumpy\u001b[0m\u001b[0;34m.\u001b[0m\u001b[0mma\u001b[0m\u001b[0;34m.\u001b[0m\u001b[0mmrecords\u001b[0m \u001b[0;32mas\u001b[0m \u001b[0mmrecords\u001b[0m\u001b[0;34m\u001b[0m\u001b[0;34m\u001b[0m\u001b[0m\n",
      "\u001b[0;32m~/.pyenv/versions/3.7.6/envs/vivadata/lib/python3.7/site-packages/pandas/core/internals/construction.py\u001b[0m in \u001b[0;36minit_dict\u001b[0;34m(data, index, columns, dtype)\u001b[0m\n\u001b[1;32m    281\u001b[0m             \u001b[0marr\u001b[0m \u001b[0;32mif\u001b[0m \u001b[0;32mnot\u001b[0m \u001b[0mis_datetime64tz_dtype\u001b[0m\u001b[0;34m(\u001b[0m\u001b[0marr\u001b[0m\u001b[0;34m)\u001b[0m \u001b[0;32melse\u001b[0m \u001b[0marr\u001b[0m\u001b[0;34m.\u001b[0m\u001b[0mcopy\u001b[0m\u001b[0;34m(\u001b[0m\u001b[0;34m)\u001b[0m \u001b[0;32mfor\u001b[0m \u001b[0marr\u001b[0m \u001b[0;32min\u001b[0m \u001b[0marrays\u001b[0m\u001b[0;34m\u001b[0m\u001b[0;34m\u001b[0m\u001b[0m\n\u001b[1;32m    282\u001b[0m         ]\n\u001b[0;32m--> 283\u001b[0;31m     \u001b[0;32mreturn\u001b[0m \u001b[0marrays_to_mgr\u001b[0m\u001b[0;34m(\u001b[0m\u001b[0marrays\u001b[0m\u001b[0;34m,\u001b[0m \u001b[0mdata_names\u001b[0m\u001b[0;34m,\u001b[0m \u001b[0mindex\u001b[0m\u001b[0;34m,\u001b[0m \u001b[0mcolumns\u001b[0m\u001b[0;34m,\u001b[0m \u001b[0mdtype\u001b[0m\u001b[0;34m=\u001b[0m\u001b[0mdtype\u001b[0m\u001b[0;34m)\u001b[0m\u001b[0;34m\u001b[0m\u001b[0;34m\u001b[0m\u001b[0m\n\u001b[0m\u001b[1;32m    284\u001b[0m \u001b[0;34m\u001b[0m\u001b[0m\n\u001b[1;32m    285\u001b[0m \u001b[0;34m\u001b[0m\u001b[0m\n",
      "\u001b[0;32m~/.pyenv/versions/3.7.6/envs/vivadata/lib/python3.7/site-packages/pandas/core/internals/construction.py\u001b[0m in \u001b[0;36marrays_to_mgr\u001b[0;34m(arrays, arr_names, index, columns, dtype, verify_integrity)\u001b[0m\n\u001b[1;32m     78\u001b[0m             \u001b[0mindex\u001b[0m \u001b[0;34m=\u001b[0m \u001b[0mextract_index\u001b[0m\u001b[0;34m(\u001b[0m\u001b[0marrays\u001b[0m\u001b[0;34m)\u001b[0m\u001b[0;34m\u001b[0m\u001b[0;34m\u001b[0m\u001b[0m\n\u001b[1;32m     79\u001b[0m         \u001b[0;32melse\u001b[0m\u001b[0;34m:\u001b[0m\u001b[0;34m\u001b[0m\u001b[0;34m\u001b[0m\u001b[0m\n\u001b[0;32m---> 80\u001b[0;31m             \u001b[0mindex\u001b[0m \u001b[0;34m=\u001b[0m \u001b[0mensure_index\u001b[0m\u001b[0;34m(\u001b[0m\u001b[0mindex\u001b[0m\u001b[0;34m)\u001b[0m\u001b[0;34m\u001b[0m\u001b[0;34m\u001b[0m\u001b[0m\n\u001b[0m\u001b[1;32m     81\u001b[0m \u001b[0;34m\u001b[0m\u001b[0m\n\u001b[1;32m     82\u001b[0m         \u001b[0;31m# don't force copy because getting jammed in an ndarray anyway\u001b[0m\u001b[0;34m\u001b[0m\u001b[0;34m\u001b[0m\u001b[0;34m\u001b[0m\u001b[0m\n",
      "\u001b[0;32m~/.pyenv/versions/3.7.6/envs/vivadata/lib/python3.7/site-packages/pandas/core/indexes/base.py\u001b[0m in \u001b[0;36mensure_index\u001b[0;34m(index_like, copy)\u001b[0m\n\u001b[1;32m   5607\u001b[0m             \u001b[0mindex_like\u001b[0m \u001b[0;34m=\u001b[0m \u001b[0mlist\u001b[0m\u001b[0;34m(\u001b[0m\u001b[0mindex_like\u001b[0m\u001b[0;34m)\u001b[0m\u001b[0;34m\u001b[0m\u001b[0;34m\u001b[0m\u001b[0m\n\u001b[1;32m   5608\u001b[0m \u001b[0;34m\u001b[0m\u001b[0m\n\u001b[0;32m-> 5609\u001b[0;31m         \u001b[0mconverted\u001b[0m\u001b[0;34m,\u001b[0m \u001b[0mall_arrays\u001b[0m \u001b[0;34m=\u001b[0m \u001b[0mlib\u001b[0m\u001b[0;34m.\u001b[0m\u001b[0mclean_index_list\u001b[0m\u001b[0;34m(\u001b[0m\u001b[0mindex_like\u001b[0m\u001b[0;34m)\u001b[0m\u001b[0;34m\u001b[0m\u001b[0;34m\u001b[0m\u001b[0m\n\u001b[0m\u001b[1;32m   5610\u001b[0m \u001b[0;34m\u001b[0m\u001b[0m\n\u001b[1;32m   5611\u001b[0m         \u001b[0;32mif\u001b[0m \u001b[0mlen\u001b[0m\u001b[0;34m(\u001b[0m\u001b[0mconverted\u001b[0m\u001b[0;34m)\u001b[0m \u001b[0;34m>\u001b[0m \u001b[0;36m0\u001b[0m \u001b[0;32mand\u001b[0m \u001b[0mall_arrays\u001b[0m\u001b[0;34m:\u001b[0m\u001b[0;34m\u001b[0m\u001b[0;34m\u001b[0m\u001b[0m\n",
      "\u001b[0;32mpandas/_libs/lib.pyx\u001b[0m in \u001b[0;36mpandas._libs.lib.clean_index_list\u001b[0;34m()\u001b[0m\n",
      "\u001b[0;32mpandas/_libs/lib.pyx\u001b[0m in \u001b[0;36mpandas._libs.lib.infer_dtype\u001b[0;34m()\u001b[0m\n",
      "\u001b[0;32mpandas/_libs/lib.pyx\u001b[0m in \u001b[0;36mpandas._libs.lib._try_infer_map\u001b[0;34m()\u001b[0m\n",
      "\u001b[0;32m~/.pyenv/versions/3.7.6/envs/vivadata/lib/python3.7/site-packages/numpy/core/_dtype.py\u001b[0m in \u001b[0;36m_name_get\u001b[0;34m(dtype)\u001b[0m\n\u001b[1;32m    326\u001b[0m         \u001b[0;32mreturn\u001b[0m \u001b[0mdtype\u001b[0m\u001b[0;34m.\u001b[0m\u001b[0mtype\u001b[0m\u001b[0;34m.\u001b[0m\u001b[0m__name__\u001b[0m\u001b[0;34m\u001b[0m\u001b[0;34m\u001b[0m\u001b[0m\n\u001b[1;32m    327\u001b[0m \u001b[0;34m\u001b[0m\u001b[0m\n\u001b[0;32m--> 328\u001b[0;31m     \u001b[0;32mif\u001b[0m \u001b[0missubclass\u001b[0m\u001b[0;34m(\u001b[0m\u001b[0mdtype\u001b[0m\u001b[0;34m.\u001b[0m\u001b[0mtype\u001b[0m\u001b[0;34m,\u001b[0m \u001b[0mnp\u001b[0m\u001b[0;34m.\u001b[0m\u001b[0mvoid\u001b[0m\u001b[0;34m)\u001b[0m\u001b[0;34m:\u001b[0m\u001b[0;34m\u001b[0m\u001b[0;34m\u001b[0m\u001b[0m\n\u001b[0m\u001b[1;32m    329\u001b[0m         \u001b[0;31m# historically, void subclasses preserve their name, eg `record64`\u001b[0m\u001b[0;34m\u001b[0m\u001b[0;34m\u001b[0m\u001b[0;34m\u001b[0m\u001b[0m\n\u001b[1;32m    330\u001b[0m         \u001b[0mname\u001b[0m \u001b[0;34m=\u001b[0m \u001b[0mdtype\u001b[0m\u001b[0;34m.\u001b[0m\u001b[0mtype\u001b[0m\u001b[0;34m.\u001b[0m\u001b[0m__name__\u001b[0m\u001b[0;34m\u001b[0m\u001b[0;34m\u001b[0m\u001b[0m\n",
      "\u001b[0;31mKeyboardInterrupt\u001b[0m: "
     ]
    }
   ],
   "source": [
    "for (test_df, sample_prediction_df) in iter_test:\n",
    "    wt = test_df.iloc[0].weight\n",
    "    if(wt == 0):\n",
    "        sample_prediction_df.action = 0 \n",
    "    else:\n",
    "        sample_prediction_df.action = np.where(lgb.predict(\n",
    "            pca.transform(scaler.transform(fillna_npwhere(test_df[features].values,data_median[features].values))))>=0.5,1,0).astype(int)\n",
    "    env.predict(sample_prediction_df)"
   ]
  }
 ],
 "metadata": {
  "kernelspec": {
   "display_name": "Python 3",
   "language": "python",
   "name": "python3"
  },
  "language_info": {
   "codemirror_mode": {
    "name": "ipython",
    "version": 3
   },
   "file_extension": ".py",
   "mimetype": "text/x-python",
   "name": "python",
   "nbconvert_exporter": "python",
   "pygments_lexer": "ipython3",
   "version": "3.7.6"
  }
 },
 "nbformat": 4,
 "nbformat_minor": 4
}
